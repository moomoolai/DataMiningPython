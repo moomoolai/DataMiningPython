{
  "nbformat": 4,
  "nbformat_minor": 0,
  "metadata": {
    "colab": {
      "provenance": []
    },
    "kernelspec": {
      "name": "python3",
      "display_name": "Python 3"
    },
    "language_info": {
      "name": "python"
    }
  },
  "cells": [
    {
      "cell_type": "markdown",
      "source": [
        "\n",
        "\n",
        "```\n",
        "# This is formatted as code\n",
        "```\n",
        "\n",
        "## CSCI 316, T01, G12\n",
        "## Group Assignment 1\n",
        "\n",
        "- Emily Gong Xue Ying: 7673620\n",
        "- Lai Wei Jie: 7770042\n",
        "- Lee Kuok Wei : 7673607\n",
        "- Li Biyang : 7352670"
      ],
      "metadata": {
        "id": "a-6vwmN1s54H"
      }
    },
    {
      "cell_type": "markdown",
      "source": [
        "# End to End Data Mining Project\n",
        "## Classification Problem: to analyse a loan data set for credit risk analysis\n",
        "Target variable: default (index)\n",
        "\n",
        "- a) Discover and visualise the data\n",
        "- b) Prepare the data for ML\n",
        "- c) Select and train models\n",
        "- d) Fine-tune the models\n",
        "- e) Evaluate outcomes\n"
      ],
      "metadata": {
        "id": "CPdHNhnMtEoU"
      }
    },
    {
      "cell_type": "markdown",
      "metadata": {
        "id": "d4liOLBs73YZ"
      },
      "source": [
        "# Discover and visualise the data\n"
      ]
    },
    {
      "cell_type": "markdown",
      "source": [
        "Dataset: Loan data set for credit risk analysis (https://www.kaggle.com/datasets/rameshmehta/credit-risk-analysis)\n",
        "\n",
        "Moreover, the dataset is very\n",
        "unbalanced, with approximately 6 % of loans considered as defaulted. This\n",
        "dataset has different types of features such as categorical, numeric & date."
      ],
      "metadata": {
        "id": "De8IzOI79dS4"
      }
    },
    {
      "cell_type": "markdown",
      "source": [
        "## Uploading and reading the data\n",
        "\n",
        "\n"
      ],
      "metadata": {
        "id": "McisWhnhIN_d"
      }
    },
    {
      "cell_type": "code",
      "execution_count": null,
      "metadata": {
        "id": "7VL6zvtH9H2W",
        "colab": {
          "base_uri": "https://localhost:8080/",
          "height": 682
        },
        "outputId": "1f038c01-bce2-4430-a5f8-d1be17fb2fcf"
      },
      "outputs": [
        {
          "output_type": "stream",
          "name": "stdout",
          "text": [
            "Mounted at /content/drive\n"
          ]
        },
        {
          "output_type": "stream",
          "name": "stderr",
          "text": [
            "<ipython-input-1-e91b16405913>:8: DtypeWarning: Columns (17,45,53) have mixed types. Specify dtype option on import or set low_memory=False.\n",
            "  df =  pd.read_csv(path)\n"
          ]
        },
        {
          "output_type": "execute_result",
          "data": {
            "text/plain": [
              "        id  member_id  loan_amnt  funded_amnt  funded_amnt_inv        term  \\\n",
              "0  1077501    1296599       5000         5000           4975.0   36 months   \n",
              "1  1077430    1314167       2500         2500           2500.0   60 months   \n",
              "2  1077175    1313524       2400         2400           2400.0   36 months   \n",
              "3  1076863    1277178      10000        10000          10000.0   36 months   \n",
              "4  1075358    1311748       3000         3000           3000.0   60 months   \n",
              "5  1075269    1311441       5000         5000           5000.0   36 months   \n",
              "6  1069639    1304742       7000         7000           7000.0   60 months   \n",
              "7  1072053    1288686       3000         3000           3000.0   36 months   \n",
              "8  1071795    1306957       5600         5600           5600.0   60 months   \n",
              "9  1071570    1306721       5375         5375           5350.0   60 months   \n",
              "\n",
              "   int_rate  installment grade sub_grade  ... il_util open_rv_12m open_rv_24m  \\\n",
              "0     10.65       162.87     B        B2  ...     NaN         NaN         NaN   \n",
              "1     15.27        59.83     C        C4  ...     NaN         NaN         NaN   \n",
              "2     15.96        84.33     C        C5  ...     NaN         NaN         NaN   \n",
              "3     13.49       339.31     C        C1  ...     NaN         NaN         NaN   \n",
              "4     12.69        67.79     B        B5  ...     NaN         NaN         NaN   \n",
              "5      7.90       156.46     A        A4  ...     NaN         NaN         NaN   \n",
              "6     15.96       170.08     C        C5  ...     NaN         NaN         NaN   \n",
              "7     18.64       109.43     E        E1  ...     NaN         NaN         NaN   \n",
              "8     21.28       152.39     F        F2  ...     NaN         NaN         NaN   \n",
              "9     12.69       121.45     B        B5  ...     NaN         NaN         NaN   \n",
              "\n",
              "   max_bal_bc all_util total_rev_hi_lim inq_fi total_cu_tl inq_last_12m  \\\n",
              "0         NaN      NaN              NaN    NaN         NaN          NaN   \n",
              "1         NaN      NaN              NaN    NaN         NaN          NaN   \n",
              "2         NaN      NaN              NaN    NaN         NaN          NaN   \n",
              "3         NaN      NaN              NaN    NaN         NaN          NaN   \n",
              "4         NaN      NaN              NaN    NaN         NaN          NaN   \n",
              "5         NaN      NaN              NaN    NaN         NaN          NaN   \n",
              "6         NaN      NaN              NaN    NaN         NaN          NaN   \n",
              "7         NaN      NaN              NaN    NaN         NaN          NaN   \n",
              "8         NaN      NaN              NaN    NaN         NaN          NaN   \n",
              "9         NaN      NaN              NaN    NaN         NaN          NaN   \n",
              "\n",
              "  default_ind  \n",
              "0           0  \n",
              "1           1  \n",
              "2           0  \n",
              "3           0  \n",
              "4           0  \n",
              "5           0  \n",
              "6           0  \n",
              "7           0  \n",
              "8           1  \n",
              "9           1  \n",
              "\n",
              "[10 rows x 73 columns]"
            ],
            "text/html": [
              "\n",
              "\n",
              "  <div id=\"df-555c8bab-248e-46f6-b20e-d3ddbc609b8c\">\n",
              "    <div class=\"colab-df-container\">\n",
              "      <div>\n",
              "<style scoped>\n",
              "    .dataframe tbody tr th:only-of-type {\n",
              "        vertical-align: middle;\n",
              "    }\n",
              "\n",
              "    .dataframe tbody tr th {\n",
              "        vertical-align: top;\n",
              "    }\n",
              "\n",
              "    .dataframe thead th {\n",
              "        text-align: right;\n",
              "    }\n",
              "</style>\n",
              "<table border=\"1\" class=\"dataframe\">\n",
              "  <thead>\n",
              "    <tr style=\"text-align: right;\">\n",
              "      <th></th>\n",
              "      <th>id</th>\n",
              "      <th>member_id</th>\n",
              "      <th>loan_amnt</th>\n",
              "      <th>funded_amnt</th>\n",
              "      <th>funded_amnt_inv</th>\n",
              "      <th>term</th>\n",
              "      <th>int_rate</th>\n",
              "      <th>installment</th>\n",
              "      <th>grade</th>\n",
              "      <th>sub_grade</th>\n",
              "      <th>...</th>\n",
              "      <th>il_util</th>\n",
              "      <th>open_rv_12m</th>\n",
              "      <th>open_rv_24m</th>\n",
              "      <th>max_bal_bc</th>\n",
              "      <th>all_util</th>\n",
              "      <th>total_rev_hi_lim</th>\n",
              "      <th>inq_fi</th>\n",
              "      <th>total_cu_tl</th>\n",
              "      <th>inq_last_12m</th>\n",
              "      <th>default_ind</th>\n",
              "    </tr>\n",
              "  </thead>\n",
              "  <tbody>\n",
              "    <tr>\n",
              "      <th>0</th>\n",
              "      <td>1077501</td>\n",
              "      <td>1296599</td>\n",
              "      <td>5000</td>\n",
              "      <td>5000</td>\n",
              "      <td>4975.0</td>\n",
              "      <td>36 months</td>\n",
              "      <td>10.65</td>\n",
              "      <td>162.87</td>\n",
              "      <td>B</td>\n",
              "      <td>B2</td>\n",
              "      <td>...</td>\n",
              "      <td>NaN</td>\n",
              "      <td>NaN</td>\n",
              "      <td>NaN</td>\n",
              "      <td>NaN</td>\n",
              "      <td>NaN</td>\n",
              "      <td>NaN</td>\n",
              "      <td>NaN</td>\n",
              "      <td>NaN</td>\n",
              "      <td>NaN</td>\n",
              "      <td>0</td>\n",
              "    </tr>\n",
              "    <tr>\n",
              "      <th>1</th>\n",
              "      <td>1077430</td>\n",
              "      <td>1314167</td>\n",
              "      <td>2500</td>\n",
              "      <td>2500</td>\n",
              "      <td>2500.0</td>\n",
              "      <td>60 months</td>\n",
              "      <td>15.27</td>\n",
              "      <td>59.83</td>\n",
              "      <td>C</td>\n",
              "      <td>C4</td>\n",
              "      <td>...</td>\n",
              "      <td>NaN</td>\n",
              "      <td>NaN</td>\n",
              "      <td>NaN</td>\n",
              "      <td>NaN</td>\n",
              "      <td>NaN</td>\n",
              "      <td>NaN</td>\n",
              "      <td>NaN</td>\n",
              "      <td>NaN</td>\n",
              "      <td>NaN</td>\n",
              "      <td>1</td>\n",
              "    </tr>\n",
              "    <tr>\n",
              "      <th>2</th>\n",
              "      <td>1077175</td>\n",
              "      <td>1313524</td>\n",
              "      <td>2400</td>\n",
              "      <td>2400</td>\n",
              "      <td>2400.0</td>\n",
              "      <td>36 months</td>\n",
              "      <td>15.96</td>\n",
              "      <td>84.33</td>\n",
              "      <td>C</td>\n",
              "      <td>C5</td>\n",
              "      <td>...</td>\n",
              "      <td>NaN</td>\n",
              "      <td>NaN</td>\n",
              "      <td>NaN</td>\n",
              "      <td>NaN</td>\n",
              "      <td>NaN</td>\n",
              "      <td>NaN</td>\n",
              "      <td>NaN</td>\n",
              "      <td>NaN</td>\n",
              "      <td>NaN</td>\n",
              "      <td>0</td>\n",
              "    </tr>\n",
              "    <tr>\n",
              "      <th>3</th>\n",
              "      <td>1076863</td>\n",
              "      <td>1277178</td>\n",
              "      <td>10000</td>\n",
              "      <td>10000</td>\n",
              "      <td>10000.0</td>\n",
              "      <td>36 months</td>\n",
              "      <td>13.49</td>\n",
              "      <td>339.31</td>\n",
              "      <td>C</td>\n",
              "      <td>C1</td>\n",
              "      <td>...</td>\n",
              "      <td>NaN</td>\n",
              "      <td>NaN</td>\n",
              "      <td>NaN</td>\n",
              "      <td>NaN</td>\n",
              "      <td>NaN</td>\n",
              "      <td>NaN</td>\n",
              "      <td>NaN</td>\n",
              "      <td>NaN</td>\n",
              "      <td>NaN</td>\n",
              "      <td>0</td>\n",
              "    </tr>\n",
              "    <tr>\n",
              "      <th>4</th>\n",
              "      <td>1075358</td>\n",
              "      <td>1311748</td>\n",
              "      <td>3000</td>\n",
              "      <td>3000</td>\n",
              "      <td>3000.0</td>\n",
              "      <td>60 months</td>\n",
              "      <td>12.69</td>\n",
              "      <td>67.79</td>\n",
              "      <td>B</td>\n",
              "      <td>B5</td>\n",
              "      <td>...</td>\n",
              "      <td>NaN</td>\n",
              "      <td>NaN</td>\n",
              "      <td>NaN</td>\n",
              "      <td>NaN</td>\n",
              "      <td>NaN</td>\n",
              "      <td>NaN</td>\n",
              "      <td>NaN</td>\n",
              "      <td>NaN</td>\n",
              "      <td>NaN</td>\n",
              "      <td>0</td>\n",
              "    </tr>\n",
              "    <tr>\n",
              "      <th>5</th>\n",
              "      <td>1075269</td>\n",
              "      <td>1311441</td>\n",
              "      <td>5000</td>\n",
              "      <td>5000</td>\n",
              "      <td>5000.0</td>\n",
              "      <td>36 months</td>\n",
              "      <td>7.90</td>\n",
              "      <td>156.46</td>\n",
              "      <td>A</td>\n",
              "      <td>A4</td>\n",
              "      <td>...</td>\n",
              "      <td>NaN</td>\n",
              "      <td>NaN</td>\n",
              "      <td>NaN</td>\n",
              "      <td>NaN</td>\n",
              "      <td>NaN</td>\n",
              "      <td>NaN</td>\n",
              "      <td>NaN</td>\n",
              "      <td>NaN</td>\n",
              "      <td>NaN</td>\n",
              "      <td>0</td>\n",
              "    </tr>\n",
              "    <tr>\n",
              "      <th>6</th>\n",
              "      <td>1069639</td>\n",
              "      <td>1304742</td>\n",
              "      <td>7000</td>\n",
              "      <td>7000</td>\n",
              "      <td>7000.0</td>\n",
              "      <td>60 months</td>\n",
              "      <td>15.96</td>\n",
              "      <td>170.08</td>\n",
              "      <td>C</td>\n",
              "      <td>C5</td>\n",
              "      <td>...</td>\n",
              "      <td>NaN</td>\n",
              "      <td>NaN</td>\n",
              "      <td>NaN</td>\n",
              "      <td>NaN</td>\n",
              "      <td>NaN</td>\n",
              "      <td>NaN</td>\n",
              "      <td>NaN</td>\n",
              "      <td>NaN</td>\n",
              "      <td>NaN</td>\n",
              "      <td>0</td>\n",
              "    </tr>\n",
              "    <tr>\n",
              "      <th>7</th>\n",
              "      <td>1072053</td>\n",
              "      <td>1288686</td>\n",
              "      <td>3000</td>\n",
              "      <td>3000</td>\n",
              "      <td>3000.0</td>\n",
              "      <td>36 months</td>\n",
              "      <td>18.64</td>\n",
              "      <td>109.43</td>\n",
              "      <td>E</td>\n",
              "      <td>E1</td>\n",
              "      <td>...</td>\n",
              "      <td>NaN</td>\n",
              "      <td>NaN</td>\n",
              "      <td>NaN</td>\n",
              "      <td>NaN</td>\n",
              "      <td>NaN</td>\n",
              "      <td>NaN</td>\n",
              "      <td>NaN</td>\n",
              "      <td>NaN</td>\n",
              "      <td>NaN</td>\n",
              "      <td>0</td>\n",
              "    </tr>\n",
              "    <tr>\n",
              "      <th>8</th>\n",
              "      <td>1071795</td>\n",
              "      <td>1306957</td>\n",
              "      <td>5600</td>\n",
              "      <td>5600</td>\n",
              "      <td>5600.0</td>\n",
              "      <td>60 months</td>\n",
              "      <td>21.28</td>\n",
              "      <td>152.39</td>\n",
              "      <td>F</td>\n",
              "      <td>F2</td>\n",
              "      <td>...</td>\n",
              "      <td>NaN</td>\n",
              "      <td>NaN</td>\n",
              "      <td>NaN</td>\n",
              "      <td>NaN</td>\n",
              "      <td>NaN</td>\n",
              "      <td>NaN</td>\n",
              "      <td>NaN</td>\n",
              "      <td>NaN</td>\n",
              "      <td>NaN</td>\n",
              "      <td>1</td>\n",
              "    </tr>\n",
              "    <tr>\n",
              "      <th>9</th>\n",
              "      <td>1071570</td>\n",
              "      <td>1306721</td>\n",
              "      <td>5375</td>\n",
              "      <td>5375</td>\n",
              "      <td>5350.0</td>\n",
              "      <td>60 months</td>\n",
              "      <td>12.69</td>\n",
              "      <td>121.45</td>\n",
              "      <td>B</td>\n",
              "      <td>B5</td>\n",
              "      <td>...</td>\n",
              "      <td>NaN</td>\n",
              "      <td>NaN</td>\n",
              "      <td>NaN</td>\n",
              "      <td>NaN</td>\n",
              "      <td>NaN</td>\n",
              "      <td>NaN</td>\n",
              "      <td>NaN</td>\n",
              "      <td>NaN</td>\n",
              "      <td>NaN</td>\n",
              "      <td>1</td>\n",
              "    </tr>\n",
              "  </tbody>\n",
              "</table>\n",
              "<p>10 rows × 73 columns</p>\n",
              "</div>\n",
              "      <button class=\"colab-df-convert\" onclick=\"convertToInteractive('df-555c8bab-248e-46f6-b20e-d3ddbc609b8c')\"\n",
              "              title=\"Convert this dataframe to an interactive table.\"\n",
              "              style=\"display:none;\">\n",
              "\n",
              "  <svg xmlns=\"http://www.w3.org/2000/svg\" height=\"24px\"viewBox=\"0 0 24 24\"\n",
              "       width=\"24px\">\n",
              "    <path d=\"M0 0h24v24H0V0z\" fill=\"none\"/>\n",
              "    <path d=\"M18.56 5.44l.94 2.06.94-2.06 2.06-.94-2.06-.94-.94-2.06-.94 2.06-2.06.94zm-11 1L8.5 8.5l.94-2.06 2.06-.94-2.06-.94L8.5 2.5l-.94 2.06-2.06.94zm10 10l.94 2.06.94-2.06 2.06-.94-2.06-.94-.94-2.06-.94 2.06-2.06.94z\"/><path d=\"M17.41 7.96l-1.37-1.37c-.4-.4-.92-.59-1.43-.59-.52 0-1.04.2-1.43.59L10.3 9.45l-7.72 7.72c-.78.78-.78 2.05 0 2.83L4 21.41c.39.39.9.59 1.41.59.51 0 1.02-.2 1.41-.59l7.78-7.78 2.81-2.81c.8-.78.8-2.07 0-2.86zM5.41 20L4 18.59l7.72-7.72 1.47 1.35L5.41 20z\"/>\n",
              "  </svg>\n",
              "      </button>\n",
              "\n",
              "\n",
              "\n",
              "    <div id=\"df-64e1e23a-05ed-4127-b389-881339aa192e\">\n",
              "      <button class=\"colab-df-quickchart\" onclick=\"quickchart('df-64e1e23a-05ed-4127-b389-881339aa192e')\"\n",
              "              title=\"Suggest charts.\"\n",
              "              style=\"display:none;\">\n",
              "\n",
              "<svg xmlns=\"http://www.w3.org/2000/svg\" height=\"24px\"viewBox=\"0 0 24 24\"\n",
              "     width=\"24px\">\n",
              "    <g>\n",
              "        <path d=\"M19 3H5c-1.1 0-2 .9-2 2v14c0 1.1.9 2 2 2h14c1.1 0 2-.9 2-2V5c0-1.1-.9-2-2-2zM9 17H7v-7h2v7zm4 0h-2V7h2v10zm4 0h-2v-4h2v4z\"/>\n",
              "    </g>\n",
              "</svg>\n",
              "      </button>\n",
              "    </div>\n",
              "\n",
              "<style>\n",
              "  .colab-df-quickchart {\n",
              "    background-color: #E8F0FE;\n",
              "    border: none;\n",
              "    border-radius: 50%;\n",
              "    cursor: pointer;\n",
              "    display: none;\n",
              "    fill: #1967D2;\n",
              "    height: 32px;\n",
              "    padding: 0 0 0 0;\n",
              "    width: 32px;\n",
              "  }\n",
              "\n",
              "  .colab-df-quickchart:hover {\n",
              "    background-color: #E2EBFA;\n",
              "    box-shadow: 0px 1px 2px rgba(60, 64, 67, 0.3), 0px 1px 3px 1px rgba(60, 64, 67, 0.15);\n",
              "    fill: #174EA6;\n",
              "  }\n",
              "\n",
              "  [theme=dark] .colab-df-quickchart {\n",
              "    background-color: #3B4455;\n",
              "    fill: #D2E3FC;\n",
              "  }\n",
              "\n",
              "  [theme=dark] .colab-df-quickchart:hover {\n",
              "    background-color: #434B5C;\n",
              "    box-shadow: 0px 1px 3px 1px rgba(0, 0, 0, 0.15);\n",
              "    filter: drop-shadow(0px 1px 2px rgba(0, 0, 0, 0.3));\n",
              "    fill: #FFFFFF;\n",
              "  }\n",
              "</style>\n",
              "\n",
              "    <script>\n",
              "      async function quickchart(key) {\n",
              "        const containerElement = document.querySelector('#' + key);\n",
              "        const charts = await google.colab.kernel.invokeFunction(\n",
              "            'suggestCharts', [key], {});\n",
              "      }\n",
              "    </script>\n",
              "\n",
              "      <script>\n",
              "\n",
              "function displayQuickchartButton(domScope) {\n",
              "  let quickchartButtonEl =\n",
              "    domScope.querySelector('#df-64e1e23a-05ed-4127-b389-881339aa192e button.colab-df-quickchart');\n",
              "  quickchartButtonEl.style.display =\n",
              "    google.colab.kernel.accessAllowed ? 'block' : 'none';\n",
              "}\n",
              "\n",
              "        displayQuickchartButton(document);\n",
              "      </script>\n",
              "      <style>\n",
              "    .colab-df-container {\n",
              "      display:flex;\n",
              "      flex-wrap:wrap;\n",
              "      gap: 12px;\n",
              "    }\n",
              "\n",
              "    .colab-df-convert {\n",
              "      background-color: #E8F0FE;\n",
              "      border: none;\n",
              "      border-radius: 50%;\n",
              "      cursor: pointer;\n",
              "      display: none;\n",
              "      fill: #1967D2;\n",
              "      height: 32px;\n",
              "      padding: 0 0 0 0;\n",
              "      width: 32px;\n",
              "    }\n",
              "\n",
              "    .colab-df-convert:hover {\n",
              "      background-color: #E2EBFA;\n",
              "      box-shadow: 0px 1px 2px rgba(60, 64, 67, 0.3), 0px 1px 3px 1px rgba(60, 64, 67, 0.15);\n",
              "      fill: #174EA6;\n",
              "    }\n",
              "\n",
              "    [theme=dark] .colab-df-convert {\n",
              "      background-color: #3B4455;\n",
              "      fill: #D2E3FC;\n",
              "    }\n",
              "\n",
              "    [theme=dark] .colab-df-convert:hover {\n",
              "      background-color: #434B5C;\n",
              "      box-shadow: 0px 1px 3px 1px rgba(0, 0, 0, 0.15);\n",
              "      filter: drop-shadow(0px 1px 2px rgba(0, 0, 0, 0.3));\n",
              "      fill: #FFFFFF;\n",
              "    }\n",
              "  </style>\n",
              "\n",
              "      <script>\n",
              "        const buttonEl =\n",
              "          document.querySelector('#df-555c8bab-248e-46f6-b20e-d3ddbc609b8c button.colab-df-convert');\n",
              "        buttonEl.style.display =\n",
              "          google.colab.kernel.accessAllowed ? 'block' : 'none';\n",
              "\n",
              "        async function convertToInteractive(key) {\n",
              "          const element = document.querySelector('#df-555c8bab-248e-46f6-b20e-d3ddbc609b8c');\n",
              "          const dataTable =\n",
              "            await google.colab.kernel.invokeFunction('convertToInteractive',\n",
              "                                                     [key], {});\n",
              "          if (!dataTable) return;\n",
              "\n",
              "          const docLinkHtml = 'Like what you see? Visit the ' +\n",
              "            '<a target=\"_blank\" href=https://colab.research.google.com/notebooks/data_table.ipynb>data table notebook</a>'\n",
              "            + ' to learn more about interactive tables.';\n",
              "          element.innerHTML = '';\n",
              "          dataTable['output_type'] = 'display_data';\n",
              "          await google.colab.output.renderOutput(dataTable, element);\n",
              "          const docLink = document.createElement('div');\n",
              "          docLink.innerHTML = docLinkHtml;\n",
              "          element.appendChild(docLink);\n",
              "        }\n",
              "      </script>\n",
              "    </div>\n",
              "  </div>\n"
            ]
          },
          "metadata": {},
          "execution_count": 1
        }
      ],
      "source": [
        "import pandas as pd\n",
        "import csv\n",
        "\n",
        "from google.colab import drive\n",
        "drive.mount('/content/drive')\n",
        "\n",
        "path = \"/content/drive/MyDrive/dataset/data.csv\"\n",
        "df =  pd.read_csv(path)\n",
        "\n",
        "df.head(10)"
      ]
    },
    {
      "cell_type": "markdown",
      "source": [
        "## Exploratory Visualisations"
      ],
      "metadata": {
        "id": "aQ0TFn2Fwd85"
      }
    },
    {
      "cell_type": "markdown",
      "metadata": {
        "id": "VRufEDd9GAUw"
      },
      "source": [
        "### Histograms"
      ]
    },
    {
      "cell_type": "code",
      "execution_count": null,
      "metadata": {
        "id": "b74xC14gGmq3",
        "colab": {
          "base_uri": "https://localhost:8080/",
          "height": 1238
        },
        "outputId": "a4382f53-a583-429b-94a1-6a0cf361a6ea"
      },
      "outputs": [
        {
          "output_type": "display_data",
          "data": {
            "text/plain": [
              "<Figure size 2000x1500 with 56 Axes>"
            ],
            "image/png": "[encoded data removed]"
          },
          "metadata": {}
        }
      ],
      "source": [
        "%matplotlib inline\n",
        "import matplotlib.pyplot as plt\n",
        "\n",
        "# Plot the histograms for attributes\n",
        "df.hist(bins = 50, figsize = (20, 15))\n",
        "plt.show()"
      ]
    },
    {
      "cell_type": "markdown",
      "source": [
        "### Interpretation\n",
        "\n",
        "To start off, the x-axis represents the range of values for each attribute and is divided into bins that represents a specific range of values. The y-axis represents the frequency of values within each bin. It shows how many data points fall within the corresponding range of values on the x-axis.\n",
        "\n",
        "1) Shape of histograms\n",
        "\n",
        "Symmetric Distribution: The histogram is roughly symmetrical around a central value which indicates a normal distribution. This means that the data points are evenly distributed around the mean, and there are approximately an equal number of data points on both sides of the central value. From the result shown above, an example is all_util.\n",
        "\n",
        "Skewed Distribution: The histogram is skewed to the left or right. A left-skewed (negative-skewed) distribution indicates that the majority of the data points are on the right side. A right-skewed (positive-skewed) distribution indicates that the majority of the data points are on the left side. An example of this is total_pymnt.\n",
        "\n",
        "2) Central Tendency: The central tendency of the data can be estimated from the histogram. For a symmetric distribution, the peak of the histogram corresponds to the mean, median, and mode, which are all the same in a normal distribution. For skewed distributions, these measures may differ.\n",
        "\n",
        "3) Spread: The spread or variability of the data can be observed by looking at the width of the histogram. A wider histogram indicates higher variability, whereas a narrower histogram indicates lower variability. For example, the attribute max_bal_bc has a higher variability than all_util.\n",
        "\n",
        "4) Outliers: Outliers, which are extreme values in the data, can also be identified from the histogram. Outliers are data points that lie far away from the bulk of the data and may appear as isolated bars far from the main distribution. For example, it is observed that there are outliers in the histogram of annual_inc_joint.\n",
        "\n",
        "5) Multimodal Distribution: If there are multiple peaks in the histogram, it suggests a multimodal distribution, indicating that the data may have multiple distinct groups or categories."
      ],
      "metadata": {
        "id": "0p-d7esT46v4"
      }
    },
    {
      "cell_type": "markdown",
      "source": [
        "### Symmetric distribution example"
      ],
      "metadata": {
        "id": "VOzaLRNq7343"
      }
    },
    {
      "cell_type": "code",
      "source": [
        "df['all_util'].hist()"
      ],
      "metadata": {
        "id": "MRhrklK18YtR",
        "colab": {
          "base_uri": "https://localhost:8080/",
          "height": 448
        },
        "outputId": "e26449eb-cf5c-40eb-9e23-7d6272d68f8a"
      },
      "execution_count": null,
      "outputs": [
        {
          "output_type": "execute_result",
          "data": {
            "text/plain": [
              "<Axes: >"
            ]
          },
          "metadata": {},
          "execution_count": 3
        },
        {
          "output_type": "display_data",
          "data": {
            "text/plain": [
              "<Figure size 640x480 with 1 Axes>"
            ],
            "image/png": "[encoded data removed]"
          },
          "metadata": {}
        }
      ]
    },
    {
      "cell_type": "markdown",
      "source": [
        "### Skewed distribution example"
      ],
      "metadata": {
        "id": "u2Dgulsd77_Y"
      }
    },
    {
      "cell_type": "code",
      "source": [
        "df['total_pymnt'].hist()"
      ],
      "metadata": {
        "id": "yQc32dX28p9n",
        "colab": {
          "base_uri": "https://localhost:8080/",
          "height": 448
        },
        "outputId": "23d66efa-a868-4524-bae3-597f0935cc4b"
      },
      "execution_count": null,
      "outputs": [
        {
          "output_type": "execute_result",
          "data": {
            "text/plain": [
              "<Axes: >"
            ]
          },
          "metadata": {},
          "execution_count": 4
        },
        {
          "output_type": "display_data",
          "data": {
            "text/plain": [
              "<Figure size 640x480 with 1 Axes>"
            ],
            "image/png": "[encoded data removed]"
          },
          "metadata": {}
        }
      ]
    },
    {
      "cell_type": "markdown",
      "source": [
        "### Outliers example"
      ],
      "metadata": {
        "id": "4pNwjnm68Buj"
      }
    },
    {
      "cell_type": "code",
      "source": [
        "df['annual_inc_joint'].hist()"
      ],
      "metadata": {
        "id": "sp3rNcQr8qch",
        "colab": {
          "base_uri": "https://localhost:8080/",
          "height": 448
        },
        "outputId": "1353f60c-7642-4eb7-dbff-f8e7b44e2de2"
      },
      "execution_count": null,
      "outputs": [
        {
          "output_type": "execute_result",
          "data": {
            "text/plain": [
              "<Axes: >"
            ]
          },
          "metadata": {},
          "execution_count": 5
        },
        {
          "output_type": "display_data",
          "data": {
            "text/plain": [
              "<Figure size 640x480 with 1 Axes>"
            ],
            "image/png": "[encoded data removed]"
          },
          "metadata": {}
        }
      ]
    },
    {
      "cell_type": "markdown",
      "metadata": {
        "id": "hiOoMcO7Fpql"
      },
      "source": [
        "#Prepare the data for machine learning algorithms\n",
        "\n",
        "\n",
        "\n",
        "\n"
      ]
    },
    {
      "cell_type": "markdown",
      "metadata": {
        "id": "SboiXz5xXi0u"
      },
      "source": [
        "## Check for duplicate rows"
      ]
    },
    {
      "cell_type": "code",
      "execution_count": null,
      "metadata": {
        "colab": {
          "base_uri": "https://localhost:8080/",
          "height": 678
        },
        "id": "olIYI-IjXn_N",
        "outputId": "442fd9c5-8bdf-4483-f13b-608d89b9b282"
      },
      "outputs": [
        {
          "output_type": "stream",
          "name": "stdout",
          "text": [
            "Number of duplicate rows: 0\n"
          ]
        },
        {
          "output_type": "execute_result",
          "data": {
            "text/plain": [
              "              id  member_id  loan_amnt  funded_amnt  funded_amnt_inv  \\\n",
              "0        1077501    1296599       5000         5000           4975.0   \n",
              "1        1077430    1314167       2500         2500           2500.0   \n",
              "2        1077175    1313524       2400         2400           2400.0   \n",
              "3        1076863    1277178      10000        10000          10000.0   \n",
              "4        1075358    1311748       3000         3000           3000.0   \n",
              "...          ...        ...        ...          ...              ...   \n",
              "855964  36371250   39102635      10000        10000          10000.0   \n",
              "855965  36441262   39152692      24000        24000          24000.0   \n",
              "855966  36271333   38982739      13000        13000          13000.0   \n",
              "855967  36490806   39222577      12000        12000          12000.0   \n",
              "855968  36271262   38982659      20000        20000          20000.0   \n",
              "\n",
              "              term  int_rate  installment grade sub_grade  ... il_util  \\\n",
              "0        36 months     10.65       162.87     B        B2  ...     NaN   \n",
              "1        60 months     15.27        59.83     C        C4  ...     NaN   \n",
              "2        36 months     15.96        84.33     C        C5  ...     NaN   \n",
              "3        36 months     13.49       339.31     C        C1  ...     NaN   \n",
              "4        60 months     12.69        67.79     B        B5  ...     NaN   \n",
              "...            ...       ...          ...   ...       ...  ...     ...   \n",
              "855964   36 months     11.99       332.10     B        B5  ...     NaN   \n",
              "855965   36 months     11.99       797.03     B        B5  ...     NaN   \n",
              "855966   60 months     15.99       316.07     D        D2  ...     NaN   \n",
              "855967   60 months     19.99       317.86     E        E3  ...     NaN   \n",
              "855968   36 months     11.99       664.20     B        B5  ...     NaN   \n",
              "\n",
              "       open_rv_12m open_rv_24m  max_bal_bc all_util total_rev_hi_lim inq_fi  \\\n",
              "0              NaN         NaN         NaN      NaN              NaN    NaN   \n",
              "1              NaN         NaN         NaN      NaN              NaN    NaN   \n",
              "2              NaN         NaN         NaN      NaN              NaN    NaN   \n",
              "3              NaN         NaN         NaN      NaN              NaN    NaN   \n",
              "4              NaN         NaN         NaN      NaN              NaN    NaN   \n",
              "...            ...         ...         ...      ...              ...    ...   \n",
              "855964         NaN         NaN         NaN      NaN          17100.0    NaN   \n",
              "855965         NaN         NaN         NaN      NaN          10200.0    NaN   \n",
              "855966         NaN         NaN         NaN      NaN          18000.0    NaN   \n",
              "855967         NaN         NaN         NaN      NaN          27000.0    NaN   \n",
              "855968         NaN         NaN         NaN      NaN          41700.0    NaN   \n",
              "\n",
              "       total_cu_tl inq_last_12m default_ind  \n",
              "0              NaN          NaN           0  \n",
              "1              NaN          NaN           1  \n",
              "2              NaN          NaN           0  \n",
              "3              NaN          NaN           0  \n",
              "4              NaN          NaN           0  \n",
              "...            ...          ...         ...  \n",
              "855964         NaN          NaN           0  \n",
              "855965         NaN          NaN           0  \n",
              "855966         NaN          NaN           0  \n",
              "855967         NaN          NaN           0  \n",
              "855968         NaN          NaN           0  \n",
              "\n",
              "[855969 rows x 73 columns]"
            ],
            "text/html": [
              "\n",
              "\n",
              "  <div id=\"df-4ff3ede5-be10-4681-85d6-4271396ff656\">\n",
              "    <div class=\"colab-df-container\">\n",
              "      <div>\n",
              "<style scoped>\n",
              "    .dataframe tbody tr th:only-of-type {\n",
              "        vertical-align: middle;\n",
              "    }\n",
              "\n",
              "    .dataframe tbody tr th {\n",
              "        vertical-align: top;\n",
              "    }\n",
              "\n",
              "    .dataframe thead th {\n",
              "        text-align: right;\n",
              "    }\n",
              "</style>\n",
              "<table border=\"1\" class=\"dataframe\">\n",
              "  <thead>\n",
              "    <tr style=\"text-align: right;\">\n",
              "      <th></th>\n",
              "      <th>id</th>\n",
              "      <th>member_id</th>\n",
              "      <th>loan_amnt</th>\n",
              "      <th>funded_amnt</th>\n",
              "      <th>funded_amnt_inv</th>\n",
              "      <th>term</th>\n",
              "      <th>int_rate</th>\n",
              "      <th>installment</th>\n",
              "      <th>grade</th>\n",
              "      <th>sub_grade</th>\n",
              "      <th>...</th>\n",
              "      <th>il_util</th>\n",
              "      <th>open_rv_12m</th>\n",
              "      <th>open_rv_24m</th>\n",
              "      <th>max_bal_bc</th>\n",
              "      <th>all_util</th>\n",
              "      <th>total_rev_hi_lim</th>\n",
              "      <th>inq_fi</th>\n",
              "      <th>total_cu_tl</th>\n",
              "      <th>inq_last_12m</th>\n",
              "      <th>default_ind</th>\n",
              "    </tr>\n",
              "  </thead>\n",
              "  <tbody>\n",
              "    <tr>\n",
              "      <th>0</th>\n",
              "      <td>1077501</td>\n",
              "      <td>1296599</td>\n",
              "      <td>5000</td>\n",
              "      <td>5000</td>\n",
              "      <td>4975.0</td>\n",
              "      <td>36 months</td>\n",
              "      <td>10.65</td>\n",
              "      <td>162.87</td>\n",
              "      <td>B</td>\n",
              "      <td>B2</td>\n",
              "      <td>...</td>\n",
              "      <td>NaN</td>\n",
              "      <td>NaN</td>\n",
              "      <td>NaN</td>\n",
              "      <td>NaN</td>\n",
              "      <td>NaN</td>\n",
              "      <td>NaN</td>\n",
              "      <td>NaN</td>\n",
              "      <td>NaN</td>\n",
              "      <td>NaN</td>\n",
              "      <td>0</td>\n",
              "    </tr>\n",
              "    <tr>\n",
              "      <th>1</th>\n",
              "      <td>1077430</td>\n",
              "      <td>1314167</td>\n",
              "      <td>2500</td>\n",
              "      <td>2500</td>\n",
              "      <td>2500.0</td>\n",
              "      <td>60 months</td>\n",
              "      <td>15.27</td>\n",
              "      <td>59.83</td>\n",
              "      <td>C</td>\n",
              "      <td>C4</td>\n",
              "      <td>...</td>\n",
              "      <td>NaN</td>\n",
              "      <td>NaN</td>\n",
              "      <td>NaN</td>\n",
              "      <td>NaN</td>\n",
              "      <td>NaN</td>\n",
              "      <td>NaN</td>\n",
              "      <td>NaN</td>\n",
              "      <td>NaN</td>\n",
              "      <td>NaN</td>\n",
              "      <td>1</td>\n",
              "    </tr>\n",
              "    <tr>\n",
              "      <th>2</th>\n",
              "      <td>1077175</td>\n",
              "      <td>1313524</td>\n",
              "      <td>2400</td>\n",
              "      <td>2400</td>\n",
              "      <td>2400.0</td>\n",
              "      <td>36 months</td>\n",
              "      <td>15.96</td>\n",
              "      <td>84.33</td>\n",
              "      <td>C</td>\n",
              "      <td>C5</td>\n",
              "      <td>...</td>\n",
              "      <td>NaN</td>\n",
              "      <td>NaN</td>\n",
              "      <td>NaN</td>\n",
              "      <td>NaN</td>\n",
              "      <td>NaN</td>\n",
              "      <td>NaN</td>\n",
              "      <td>NaN</td>\n",
              "      <td>NaN</td>\n",
              "      <td>NaN</td>\n",
              "      <td>0</td>\n",
              "    </tr>\n",
              "    <tr>\n",
              "      <th>3</th>\n",
              "      <td>1076863</td>\n",
              "      <td>1277178</td>\n",
              "      <td>10000</td>\n",
              "      <td>10000</td>\n",
              "      <td>10000.0</td>\n",
              "      <td>36 months</td>\n",
              "      <td>13.49</td>\n",
              "      <td>339.31</td>\n",
              "      <td>C</td>\n",
              "      <td>C1</td>\n",
              "      <td>...</td>\n",
              "      <td>NaN</td>\n",
              "      <td>NaN</td>\n",
              "      <td>NaN</td>\n",
              "      <td>NaN</td>\n",
              "      <td>NaN</td>\n",
              "      <td>NaN</td>\n",
              "      <td>NaN</td>\n",
              "      <td>NaN</td>\n",
              "      <td>NaN</td>\n",
              "      <td>0</td>\n",
              "    </tr>\n",
              "    <tr>\n",
              "      <th>4</th>\n",
              "      <td>1075358</td>\n",
              "      <td>1311748</td>\n",
              "      <td>3000</td>\n",
              "      <td>3000</td>\n",
              "      <td>3000.0</td>\n",
              "      <td>60 months</td>\n",
              "      <td>12.69</td>\n",
              "      <td>67.79</td>\n",
              "      <td>B</td>\n",
              "      <td>B5</td>\n",
              "      <td>...</td>\n",
              "      <td>NaN</td>\n",
              "      <td>NaN</td>\n",
              "      <td>NaN</td>\n",
              "      <td>NaN</td>\n",
              "      <td>NaN</td>\n",
              "      <td>NaN</td>\n",
              "      <td>NaN</td>\n",
              "      <td>NaN</td>\n",
              "      <td>NaN</td>\n",
              "      <td>0</td>\n",
              "    </tr>\n",
              "    <tr>\n",
              "      <th>...</th>\n",
              "      <td>...</td>\n",
              "      <td>...</td>\n",
              "      <td>...</td>\n",
              "      <td>...</td>\n",
              "      <td>...</td>\n",
              "      <td>...</td>\n",
              "      <td>...</td>\n",
              "      <td>...</td>\n",
              "      <td>...</td>\n",
              "      <td>...</td>\n",
              "      <td>...</td>\n",
              "      <td>...</td>\n",
              "      <td>...</td>\n",
              "      <td>...</td>\n",
              "      <td>...</td>\n",
              "      <td>...</td>\n",
              "      <td>...</td>\n",
              "      <td>...</td>\n",
              "      <td>...</td>\n",
              "      <td>...</td>\n",
              "      <td>...</td>\n",
              "    </tr>\n",
              "    <tr>\n",
              "      <th>855964</th>\n",
              "      <td>36371250</td>\n",
              "      <td>39102635</td>\n",
              "      <td>10000</td>\n",
              "      <td>10000</td>\n",
              "      <td>10000.0</td>\n",
              "      <td>36 months</td>\n",
              "      <td>11.99</td>\n",
              "      <td>332.10</td>\n",
              "      <td>B</td>\n",
              "      <td>B5</td>\n",
              "      <td>...</td>\n",
              "      <td>NaN</td>\n",
              "      <td>NaN</td>\n",
              "      <td>NaN</td>\n",
              "      <td>NaN</td>\n",
              "      <td>NaN</td>\n",
              "      <td>17100.0</td>\n",
              "      <td>NaN</td>\n",
              "      <td>NaN</td>\n",
              "      <td>NaN</td>\n",
              "      <td>0</td>\n",
              "    </tr>\n",
              "    <tr>\n",
              "      <th>855965</th>\n",
              "      <td>36441262</td>\n",
              "      <td>39152692</td>\n",
              "      <td>24000</td>\n",
              "      <td>24000</td>\n",
              "      <td>24000.0</td>\n",
              "      <td>36 months</td>\n",
              "      <td>11.99</td>\n",
              "      <td>797.03</td>\n",
              "      <td>B</td>\n",
              "      <td>B5</td>\n",
              "      <td>...</td>\n",
              "      <td>NaN</td>\n",
              "      <td>NaN</td>\n",
              "      <td>NaN</td>\n",
              "      <td>NaN</td>\n",
              "      <td>NaN</td>\n",
              "      <td>10200.0</td>\n",
              "      <td>NaN</td>\n",
              "      <td>NaN</td>\n",
              "      <td>NaN</td>\n",
              "      <td>0</td>\n",
              "    </tr>\n",
              "    <tr>\n",
              "      <th>855966</th>\n",
              "      <td>36271333</td>\n",
              "      <td>38982739</td>\n",
              "      <td>13000</td>\n",
              "      <td>13000</td>\n",
              "      <td>13000.0</td>\n",
              "      <td>60 months</td>\n",
              "      <td>15.99</td>\n",
              "      <td>316.07</td>\n",
              "      <td>D</td>\n",
              "      <td>D2</td>\n",
              "      <td>...</td>\n",
              "      <td>NaN</td>\n",
              "      <td>NaN</td>\n",
              "      <td>NaN</td>\n",
              "      <td>NaN</td>\n",
              "      <td>NaN</td>\n",
              "      <td>18000.0</td>\n",
              "      <td>NaN</td>\n",
              "      <td>NaN</td>\n",
              "      <td>NaN</td>\n",
              "      <td>0</td>\n",
              "    </tr>\n",
              "    <tr>\n",
              "      <th>855967</th>\n",
              "      <td>36490806</td>\n",
              "      <td>39222577</td>\n",
              "      <td>12000</td>\n",
              "      <td>12000</td>\n",
              "      <td>12000.0</td>\n",
              "      <td>60 months</td>\n",
              "      <td>19.99</td>\n",
              "      <td>317.86</td>\n",
              "      <td>E</td>\n",
              "      <td>E3</td>\n",
              "      <td>...</td>\n",
              "      <td>NaN</td>\n",
              "      <td>NaN</td>\n",
              "      <td>NaN</td>\n",
              "      <td>NaN</td>\n",
              "      <td>NaN</td>\n",
              "      <td>27000.0</td>\n",
              "      <td>NaN</td>\n",
              "      <td>NaN</td>\n",
              "      <td>NaN</td>\n",
              "      <td>0</td>\n",
              "    </tr>\n",
              "    <tr>\n",
              "      <th>855968</th>\n",
              "      <td>36271262</td>\n",
              "      <td>38982659</td>\n",
              "      <td>20000</td>\n",
              "      <td>20000</td>\n",
              "      <td>20000.0</td>\n",
              "      <td>36 months</td>\n",
              "      <td>11.99</td>\n",
              "      <td>664.20</td>\n",
              "      <td>B</td>\n",
              "      <td>B5</td>\n",
              "      <td>...</td>\n",
              "      <td>NaN</td>\n",
              "      <td>NaN</td>\n",
              "      <td>NaN</td>\n",
              "      <td>NaN</td>\n",
              "      <td>NaN</td>\n",
              "      <td>41700.0</td>\n",
              "      <td>NaN</td>\n",
              "      <td>NaN</td>\n",
              "      <td>NaN</td>\n",
              "      <td>0</td>\n",
              "    </tr>\n",
              "  </tbody>\n",
              "</table>\n",
              "<p>855969 rows × 73 columns</p>\n",
              "</div>\n",
              "      <button class=\"colab-df-convert\" onclick=\"convertToInteractive('df-4ff3ede5-be10-4681-85d6-4271396ff656')\"\n",
              "              title=\"Convert this dataframe to an interactive table.\"\n",
              "              style=\"display:none;\">\n",
              "\n",
              "  <svg xmlns=\"http://www.w3.org/2000/svg\" height=\"24px\"viewBox=\"0 0 24 24\"\n",
              "       width=\"24px\">\n",
              "    <path d=\"M0 0h24v24H0V0z\" fill=\"none\"/>\n",
              "    <path d=\"M18.56 5.44l.94 2.06.94-2.06 2.06-.94-2.06-.94-.94-2.06-.94 2.06-2.06.94zm-11 1L8.5 8.5l.94-2.06 2.06-.94-2.06-.94L8.5 2.5l-.94 2.06-2.06.94zm10 10l.94 2.06.94-2.06 2.06-.94-2.06-.94-.94-2.06-.94 2.06-2.06.94z\"/><path d=\"M17.41 7.96l-1.37-1.37c-.4-.4-.92-.59-1.43-.59-.52 0-1.04.2-1.43.59L10.3 9.45l-7.72 7.72c-.78.78-.78 2.05 0 2.83L4 21.41c.39.39.9.59 1.41.59.51 0 1.02-.2 1.41-.59l7.78-7.78 2.81-2.81c.8-.78.8-2.07 0-2.86zM5.41 20L4 18.59l7.72-7.72 1.47 1.35L5.41 20z\"/>\n",
              "  </svg>\n",
              "      </button>\n",
              "\n",
              "\n",
              "\n",
              "    <div id=\"df-561339d7-8b7a-4d49-95d2-24288312fad8\">\n",
              "      <button class=\"colab-df-quickchart\" onclick=\"quickchart('df-561339d7-8b7a-4d49-95d2-24288312fad8')\"\n",
              "              title=\"Suggest charts.\"\n",
              "              style=\"display:none;\">\n",
              "\n",
              "<svg xmlns=\"http://www.w3.org/2000/svg\" height=\"24px\"viewBox=\"0 0 24 24\"\n",
              "     width=\"24px\">\n",
              "    <g>\n",
              "        <path d=\"M19 3H5c-1.1 0-2 .9-2 2v14c0 1.1.9 2 2 2h14c1.1 0 2-.9 2-2V5c0-1.1-.9-2-2-2zM9 17H7v-7h2v7zm4 0h-2V7h2v10zm4 0h-2v-4h2v4z\"/>\n",
              "    </g>\n",
              "</svg>\n",
              "      </button>\n",
              "    </div>\n",
              "\n",
              "<style>\n",
              "  .colab-df-quickchart {\n",
              "    background-color: #E8F0FE;\n",
              "    border: none;\n",
              "    border-radius: 50%;\n",
              "    cursor: pointer;\n",
              "    display: none;\n",
              "    fill: #1967D2;\n",
              "    height: 32px;\n",
              "    padding: 0 0 0 0;\n",
              "    width: 32px;\n",
              "  }\n",
              "\n",
              "  .colab-df-quickchart:hover {\n",
              "    background-color: #E2EBFA;\n",
              "    box-shadow: 0px 1px 2px rgba(60, 64, 67, 0.3), 0px 1px 3px 1px rgba(60, 64, 67, 0.15);\n",
              "    fill: #174EA6;\n",
              "  }\n",
              "\n",
              "  [theme=dark] .colab-df-quickchart {\n",
              "    background-color: #3B4455;\n",
              "    fill: #D2E3FC;\n",
              "  }\n",
              "\n",
              "  [theme=dark] .colab-df-quickchart:hover {\n",
              "    background-color: #434B5C;\n",
              "    box-shadow: 0px 1px 3px 1px rgba(0, 0, 0, 0.15);\n",
              "    filter: drop-shadow(0px 1px 2px rgba(0, 0, 0, 0.3));\n",
              "    fill: #FFFFFF;\n",
              "  }\n",
              "</style>\n",
              "\n",
              "    <script>\n",
              "      async function quickchart(key) {\n",
              "        const containerElement = document.querySelector('#' + key);\n",
              "        const charts = await google.colab.kernel.invokeFunction(\n",
              "            'suggestCharts', [key], {});\n",
              "      }\n",
              "    </script>\n",
              "\n",
              "      <script>\n",
              "\n",
              "function displayQuickchartButton(domScope) {\n",
              "  let quickchartButtonEl =\n",
              "    domScope.querySelector('#df-561339d7-8b7a-4d49-95d2-24288312fad8 button.colab-df-quickchart');\n",
              "  quickchartButtonEl.style.display =\n",
              "    google.colab.kernel.accessAllowed ? 'block' : 'none';\n",
              "}\n",
              "\n",
              "        displayQuickchartButton(document);\n",
              "      </script>\n",
              "      <style>\n",
              "    .colab-df-container {\n",
              "      display:flex;\n",
              "      flex-wrap:wrap;\n",
              "      gap: 12px;\n",
              "    }\n",
              "\n",
              "    .colab-df-convert {\n",
              "      background-color: #E8F0FE;\n",
              "      border: none;\n",
              "      border-radius: 50%;\n",
              "      cursor: pointer;\n",
              "      display: none;\n",
              "      fill: #1967D2;\n",
              "      height: 32px;\n",
              "      padding: 0 0 0 0;\n",
              "      width: 32px;\n",
              "    }\n",
              "\n",
              "    .colab-df-convert:hover {\n",
              "      background-color: #E2EBFA;\n",
              "      box-shadow: 0px 1px 2px rgba(60, 64, 67, 0.3), 0px 1px 3px 1px rgba(60, 64, 67, 0.15);\n",
              "      fill: #174EA6;\n",
              "    }\n",
              "\n",
              "    [theme=dark] .colab-df-convert {\n",
              "      background-color: #3B4455;\n",
              "      fill: #D2E3FC;\n",
              "    }\n",
              "\n",
              "    [theme=dark] .colab-df-convert:hover {\n",
              "      background-color: #434B5C;\n",
              "      box-shadow: 0px 1px 3px 1px rgba(0, 0, 0, 0.15);\n",
              "      filter: drop-shadow(0px 1px 2px rgba(0, 0, 0, 0.3));\n",
              "      fill: #FFFFFF;\n",
              "    }\n",
              "  </style>\n",
              "\n",
              "      <script>\n",
              "        const buttonEl =\n",
              "          document.querySelector('#df-4ff3ede5-be10-4681-85d6-4271396ff656 button.colab-df-convert');\n",
              "        buttonEl.style.display =\n",
              "          google.colab.kernel.accessAllowed ? 'block' : 'none';\n",
              "\n",
              "        async function convertToInteractive(key) {\n",
              "          const element = document.querySelector('#df-4ff3ede5-be10-4681-85d6-4271396ff656');\n",
              "          const dataTable =\n",
              "            await google.colab.kernel.invokeFunction('convertToInteractive',\n",
              "                                                     [key], {});\n",
              "          if (!dataTable) return;\n",
              "\n",
              "          const docLinkHtml = 'Like what you see? Visit the ' +\n",
              "            '<a target=\"_blank\" href=https://colab.research.google.com/notebooks/data_table.ipynb>data table notebook</a>'\n",
              "            + ' to learn more about interactive tables.';\n",
              "          element.innerHTML = '';\n",
              "          dataTable['output_type'] = 'display_data';\n",
              "          await google.colab.output.renderOutput(dataTable, element);\n",
              "          const docLink = document.createElement('div');\n",
              "          docLink.innerHTML = docLinkHtml;\n",
              "          element.appendChild(docLink);\n",
              "        }\n",
              "      </script>\n",
              "    </div>\n",
              "  </div>\n"
            ]
          },
          "metadata": {},
          "execution_count": 3
        }
      ],
      "source": [
        "# Check if there is any duplicate rows and drop them\n",
        "df = df.drop_duplicates(subset = None, keep = 'first', inplace = False)\n",
        "print(f\"Number of duplicate rows: {df.duplicated().sum()}\")\n",
        "df"
      ]
    },
    {
      "cell_type": "markdown",
      "metadata": {
        "id": "QkaryI7y_ltE"
      },
      "source": [
        "Based on the result above, there is no duplicate row."
      ]
    },
    {
      "cell_type": "markdown",
      "source": [
        "## First review of columns to be removed"
      ],
      "metadata": {
        "id": "M2q0ZN6RJv6w"
      }
    },
    {
      "cell_type": "markdown",
      "metadata": {
        "id": "lxz04a32K632"
      },
      "source": [
        "Based on the dictionary provided, they are some attributes that are not relevant to predicting the loan default and will be removed."
      ]
    },
    {
      "cell_type": "code",
      "source": [
        "# First review of columns to be removed (data that serve little meanings)\n",
        "unhelpColumns = ['id','member_id','grade','emp_title','desc','title','zip_code','verification_status_joint']\n",
        "df.drop(unhelpColumns, axis=1, inplace=True)\n"
      ],
      "metadata": {
        "id": "kINwbtlQvMy3"
      },
      "execution_count": null,
      "outputs": []
    },
    {
      "cell_type": "markdown",
      "metadata": {
        "id": "kKOisEUMOn9G"
      },
      "source": [
        "## Refine attributes"
      ]
    },
    {
      "cell_type": "markdown",
      "source": [
        "Convert date object columns to useful information of float type\n",
        "\n",
        "\n"
      ],
      "metadata": {
        "id": "I8ViSLz0J17g"
      }
    },
    {
      "cell_type": "code",
      "source": [
        "# Find the neighbor index where new derived columns will be inserted\n",
        "target_index = df.columns.get_loc('issue_d')\n",
        "\n",
        "# Insert the new column (pymnt_gap) beside the specific column\n",
        "df.insert(target_index + 1, 'pymnt_gap', '')\n",
        "\n",
        "# Insert the new column (pymnt_duration) beside the specific column\n",
        "df.insert(target_index + 1, 'pymnt_duration', '')\n",
        "\n",
        "# Insert the new column (credit_hist) beside the specific column\n",
        "df.insert(target_index + 1, 'credit_hist', '')\n",
        "\n"
      ],
      "metadata": {
        "id": "A18YJdSP-qaM"
      },
      "execution_count": null,
      "outputs": []
    },
    {
      "cell_type": "code",
      "source": [
        "# Convert the object-type columns to datetime type\n",
        "df['issue_d'] = pd.to_datetime(df['issue_d'])\n",
        "df['last_pymnt_d'] = pd.to_datetime(df['last_pymnt_d'])\n",
        "df['next_pymnt_d'] = pd.to_datetime(df['next_pymnt_d'])\n",
        "df['earliest_cr_line'] = pd.to_datetime(df['earliest_cr_line'])\n",
        "\n",
        "\n",
        "# Update pymnt_duration: How long payment has been ongoing in days\n",
        "df['pymnt_duration'] = (df['last_pymnt_d'] - df['issue_d']).dt.days\n",
        "\n",
        "# Update pymnt_gap: What is the duration from previous payment to next payment in days\n",
        "df['pymnt_gap'] = (df['next_pymnt_d'] - df['last_pymnt_d']).dt.days\n",
        "\n",
        "# Update credit_hist: The Earliest activation of credit account to when loan issued\n",
        "df['credit_hist'] = (df['issue_d'] - df['earliest_cr_line']).dt.days"
      ],
      "metadata": {
        "id": "89gd-FtiHIVE"
      },
      "execution_count": null,
      "outputs": []
    },
    {
      "cell_type": "code",
      "source": [
        "# Once the dates have been used, remove them\n",
        "\n",
        "# Second review of unhelpful columns to be removed (dates)\n",
        "dateColumns = ['issue_d','earliest_cr_line','last_pymnt_d','next_pymnt_d','last_credit_pull_d']\n",
        "df.drop(dateColumns, axis=1, inplace=True)"
      ],
      "metadata": {
        "id": "bd5P9nLLKfVb"
      },
      "execution_count": null,
      "outputs": []
    },
    {
      "cell_type": "markdown",
      "source": [
        "Convert some object columns into float columns via numeric extraction"
      ],
      "metadata": {
        "id": "Cv7SRn2CYb2H"
      }
    },
    {
      "cell_type": "code",
      "source": [
        "# Extract numbers in object columns & convert to float\n",
        "import pandas as pd\n",
        "\n",
        "# Update column emp_length\n",
        "df['emp_length'] = df['emp_length'].str.extract('(\\d+)', expand=False).astype(float)\n",
        "\n",
        "# Update column term\n",
        "df['term'] = df['term'].str.extract('(\\d+)', expand=False).astype(float)"
      ],
      "metadata": {
        "id": "mkujKL5ZOjfr"
      },
      "execution_count": null,
      "outputs": []
    },
    {
      "cell_type": "markdown",
      "source": [
        "## Encoding categorical columns"
      ],
      "metadata": {
        "id": "XO28I5ZRKK-H"
      }
    },
    {
      "cell_type": "code",
      "source": [
        "# Get the list of integer & float columns (excluding the last column)\n",
        "obj_columns = df.select_dtypes(include='object').columns.tolist()\n",
        "df[obj_columns].head(3)"
      ],
      "metadata": {
        "colab": {
          "base_uri": "https://localhost:8080/",
          "height": 143
        },
        "id": "zg9Vxc6aQ7tk",
        "outputId": "9a1cb612-a25e-4d27-fd7b-0e52f3e8cc03"
      },
      "execution_count": null,
      "outputs": [
        {
          "output_type": "execute_result",
          "data": {
            "text/plain": [
              "  sub_grade home_ownership verification_status pymnt_plan         purpose  \\\n",
              "0        B2           RENT            Verified          n     credit_card   \n",
              "1        C4           RENT     Source Verified          n             car   \n",
              "2        C5           RENT        Not Verified          n  small_business   \n",
              "\n",
              "  addr_state initial_list_status application_type  \n",
              "0         AZ                   f       INDIVIDUAL  \n",
              "1         GA                   f       INDIVIDUAL  \n",
              "2         IL                   f       INDIVIDUAL  "
            ],
            "text/html": [
              "\n",
              "\n",
              "  <div id=\"df-444b756c-854e-4d93-9d8f-a485b911206e\">\n",
              "    <div class=\"colab-df-container\">\n",
              "      <div>\n",
              "<style scoped>\n",
              "    .dataframe tbody tr th:only-of-type {\n",
              "        vertical-align: middle;\n",
              "    }\n",
              "\n",
              "    .dataframe tbody tr th {\n",
              "        vertical-align: top;\n",
              "    }\n",
              "\n",
              "    .dataframe thead th {\n",
              "        text-align: right;\n",
              "    }\n",
              "</style>\n",
              "<table border=\"1\" class=\"dataframe\">\n",
              "  <thead>\n",
              "    <tr style=\"text-align: right;\">\n",
              "      <th></th>\n",
              "      <th>sub_grade</th>\n",
              "      <th>home_ownership</th>\n",
              "      <th>verification_status</th>\n",
              "      <th>pymnt_plan</th>\n",
              "      <th>purpose</th>\n",
              "      <th>addr_state</th>\n",
              "      <th>initial_list_status</th>\n",
              "      <th>application_type</th>\n",
              "    </tr>\n",
              "  </thead>\n",
              "  <tbody>\n",
              "    <tr>\n",
              "      <th>0</th>\n",
              "      <td>B2</td>\n",
              "      <td>RENT</td>\n",
              "      <td>Verified</td>\n",
              "      <td>n</td>\n",
              "      <td>credit_card</td>\n",
              "      <td>AZ</td>\n",
              "      <td>f</td>\n",
              "      <td>INDIVIDUAL</td>\n",
              "    </tr>\n",
              "    <tr>\n",
              "      <th>1</th>\n",
              "      <td>C4</td>\n",
              "      <td>RENT</td>\n",
              "      <td>Source Verified</td>\n",
              "      <td>n</td>\n",
              "      <td>car</td>\n",
              "      <td>GA</td>\n",
              "      <td>f</td>\n",
              "      <td>INDIVIDUAL</td>\n",
              "    </tr>\n",
              "    <tr>\n",
              "      <th>2</th>\n",
              "      <td>C5</td>\n",
              "      <td>RENT</td>\n",
              "      <td>Not Verified</td>\n",
              "      <td>n</td>\n",
              "      <td>small_business</td>\n",
              "      <td>IL</td>\n",
              "      <td>f</td>\n",
              "      <td>INDIVIDUAL</td>\n",
              "    </tr>\n",
              "  </tbody>\n",
              "</table>\n",
              "</div>\n",
              "      <button class=\"colab-df-convert\" onclick=\"convertToInteractive('df-444b756c-854e-4d93-9d8f-a485b911206e')\"\n",
              "              title=\"Convert this dataframe to an interactive table.\"\n",
              "              style=\"display:none;\">\n",
              "\n",
              "  <svg xmlns=\"http://www.w3.org/2000/svg\" height=\"24px\"viewBox=\"0 0 24 24\"\n",
              "       width=\"24px\">\n",
              "    <path d=\"M0 0h24v24H0V0z\" fill=\"none\"/>\n",
              "    <path d=\"M18.56 5.44l.94 2.06.94-2.06 2.06-.94-2.06-.94-.94-2.06-.94 2.06-2.06.94zm-11 1L8.5 8.5l.94-2.06 2.06-.94-2.06-.94L8.5 2.5l-.94 2.06-2.06.94zm10 10l.94 2.06.94-2.06 2.06-.94-2.06-.94-.94-2.06-.94 2.06-2.06.94z\"/><path d=\"M17.41 7.96l-1.37-1.37c-.4-.4-.92-.59-1.43-.59-.52 0-1.04.2-1.43.59L10.3 9.45l-7.72 7.72c-.78.78-.78 2.05 0 2.83L4 21.41c.39.39.9.59 1.41.59.51 0 1.02-.2 1.41-.59l7.78-7.78 2.81-2.81c.8-.78.8-2.07 0-2.86zM5.41 20L4 18.59l7.72-7.72 1.47 1.35L5.41 20z\"/>\n",
              "  </svg>\n",
              "      </button>\n",
              "\n",
              "\n",
              "\n",
              "    <div id=\"df-b55ec7c1-17e0-4c88-a37f-5f2bf408db0c\">\n",
              "      <button class=\"colab-df-quickchart\" onclick=\"quickchart('df-b55ec7c1-17e0-4c88-a37f-5f2bf408db0c')\"\n",
              "              title=\"Suggest charts.\"\n",
              "              style=\"display:none;\">\n",
              "\n",
              "<svg xmlns=\"http://www.w3.org/2000/svg\" height=\"24px\"viewBox=\"0 0 24 24\"\n",
              "     width=\"24px\">\n",
              "    <g>\n",
              "        <path d=\"M19 3H5c-1.1 0-2 .9-2 2v14c0 1.1.9 2 2 2h14c1.1 0 2-.9 2-2V5c0-1.1-.9-2-2-2zM9 17H7v-7h2v7zm4 0h-2V7h2v10zm4 0h-2v-4h2v4z\"/>\n",
              "    </g>\n",
              "</svg>\n",
              "      </button>\n",
              "    </div>\n",
              "\n",
              "<style>\n",
              "  .colab-df-quickchart {\n",
              "    background-color: #E8F0FE;\n",
              "    border: none;\n",
              "    border-radius: 50%;\n",
              "    cursor: pointer;\n",
              "    display: none;\n",
              "    fill: #1967D2;\n",
              "    height: 32px;\n",
              "    padding: 0 0 0 0;\n",
              "    width: 32px;\n",
              "  }\n",
              "\n",
              "  .colab-df-quickchart:hover {\n",
              "    background-color: #E2EBFA;\n",
              "    box-shadow: 0px 1px 2px rgba(60, 64, 67, 0.3), 0px 1px 3px 1px rgba(60, 64, 67, 0.15);\n",
              "    fill: #174EA6;\n",
              "  }\n",
              "\n",
              "  [theme=dark] .colab-df-quickchart {\n",
              "    background-color: #3B4455;\n",
              "    fill: #D2E3FC;\n",
              "  }\n",
              "\n",
              "  [theme=dark] .colab-df-quickchart:hover {\n",
              "    background-color: #434B5C;\n",
              "    box-shadow: 0px 1px 3px 1px rgba(0, 0, 0, 0.15);\n",
              "    filter: drop-shadow(0px 1px 2px rgba(0, 0, 0, 0.3));\n",
              "    fill: #FFFFFF;\n",
              "  }\n",
              "</style>\n",
              "\n",
              "    <script>\n",
              "      async function quickchart(key) {\n",
              "        const containerElement = document.querySelector('#' + key);\n",
              "        const charts = await google.colab.kernel.invokeFunction(\n",
              "            'suggestCharts', [key], {});\n",
              "      }\n",
              "    </script>\n",
              "\n",
              "      <script>\n",
              "\n",
              "function displayQuickchartButton(domScope) {\n",
              "  let quickchartButtonEl =\n",
              "    domScope.querySelector('#df-b55ec7c1-17e0-4c88-a37f-5f2bf408db0c button.colab-df-quickchart');\n",
              "  quickchartButtonEl.style.display =\n",
              "    google.colab.kernel.accessAllowed ? 'block' : 'none';\n",
              "}\n",
              "\n",
              "        displayQuickchartButton(document);\n",
              "      </script>\n",
              "      <style>\n",
              "    .colab-df-container {\n",
              "      display:flex;\n",
              "      flex-wrap:wrap;\n",
              "      gap: 12px;\n",
              "    }\n",
              "\n",
              "    .colab-df-convert {\n",
              "      background-color: #E8F0FE;\n",
              "      border: none;\n",
              "      border-radius: 50%;\n",
              "      cursor: pointer;\n",
              "      display: none;\n",
              "      fill: #1967D2;\n",
              "      height: 32px;\n",
              "      padding: 0 0 0 0;\n",
              "      width: 32px;\n",
              "    }\n",
              "\n",
              "    .colab-df-convert:hover {\n",
              "      background-color: #E2EBFA;\n",
              "      box-shadow: 0px 1px 2px rgba(60, 64, 67, 0.3), 0px 1px 3px 1px rgba(60, 64, 67, 0.15);\n",
              "      fill: #174EA6;\n",
              "    }\n",
              "\n",
              "    [theme=dark] .colab-df-convert {\n",
              "      background-color: #3B4455;\n",
              "      fill: #D2E3FC;\n",
              "    }\n",
              "\n",
              "    [theme=dark] .colab-df-convert:hover {\n",
              "      background-color: #434B5C;\n",
              "      box-shadow: 0px 1px 3px 1px rgba(0, 0, 0, 0.15);\n",
              "      filter: drop-shadow(0px 1px 2px rgba(0, 0, 0, 0.3));\n",
              "      fill: #FFFFFF;\n",
              "    }\n",
              "  </style>\n",
              "\n",
              "      <script>\n",
              "        const buttonEl =\n",
              "          document.querySelector('#df-444b756c-854e-4d93-9d8f-a485b911206e button.colab-df-convert');\n",
              "        buttonEl.style.display =\n",
              "          google.colab.kernel.accessAllowed ? 'block' : 'none';\n",
              "\n",
              "        async function convertToInteractive(key) {\n",
              "          const element = document.querySelector('#df-444b756c-854e-4d93-9d8f-a485b911206e');\n",
              "          const dataTable =\n",
              "            await google.colab.kernel.invokeFunction('convertToInteractive',\n",
              "                                                     [key], {});\n",
              "          if (!dataTable) return;\n",
              "\n",
              "          const docLinkHtml = 'Like what you see? Visit the ' +\n",
              "            '<a target=\"_blank\" href=https://colab.research.google.com/notebooks/data_table.ipynb>data table notebook</a>'\n",
              "            + ' to learn more about interactive tables.';\n",
              "          element.innerHTML = '';\n",
              "          dataTable['output_type'] = 'display_data';\n",
              "          await google.colab.output.renderOutput(dataTable, element);\n",
              "          const docLink = document.createElement('div');\n",
              "          docLink.innerHTML = docLinkHtml;\n",
              "          element.appendChild(docLink);\n",
              "        }\n",
              "      </script>\n",
              "    </div>\n",
              "  </div>\n"
            ]
          },
          "metadata": {},
          "execution_count": 9
        }
      ]
    },
    {
      "cell_type": "code",
      "execution_count": null,
      "metadata": {
        "colab": {
          "base_uri": "https://localhost:8080/"
        },
        "id": "nqtNeyHxYWOa",
        "outputId": "2f8f4661-cfc2-4a8e-e9c9-1e54cbb10df3"
      },
      "outputs": [
        {
          "output_type": "execute_result",
          "data": {
            "text/plain": [
              "Index(['sub_grade', 'home_ownership', 'verification_status', 'pymnt_plan',\n",
              "       'purpose', 'addr_state', 'initial_list_status', 'application_type'],\n",
              "      dtype='object')"
            ]
          },
          "metadata": {},
          "execution_count": 10
        }
      ],
      "source": [
        "# Identify the categorical columns\n",
        "categorical_columns = df.select_dtypes(include=['object']).columns\n",
        "categorical_columns"
      ]
    },
    {
      "cell_type": "markdown",
      "metadata": {
        "id": "Aopqxh4eZ_4T"
      },
      "source": [
        "### Label encoding"
      ]
    },
    {
      "cell_type": "markdown",
      "metadata": {
        "id": "SpwKt117ZMB3"
      },
      "source": [
        "To calculate the correlations, categorical columns need to be converted to numerical columns in the first place.\n",
        "\n",
        "In the list above, label encoding should be applied to sub_grade as it represents an ordinal relationship among the sub-grades (eg. A1<A2<A3). Label encoding will preserve this order while converting them to numerical values. One-hot encoding will be applied to other attributes as they are nominal and do not have an inherent order."
      ]
    },
    {
      "cell_type": "markdown",
      "source": [
        "Use label encoder to convert columns of objects to columns of floats"
      ],
      "metadata": {
        "id": "ImO_41JeKWX5"
      }
    },
    {
      "cell_type": "code",
      "source": [
        "import pandas as pd\n",
        "from sklearn.preprocessing import LabelEncoder\n",
        "\n",
        "# Assuming your DataFrame is named df\n",
        "\n",
        "# Create an instance of LabelEncoder\n",
        "label_encoder = LabelEncoder()\n",
        "\n",
        "# Apply label encoding to the specified columns\n",
        "\n",
        "df['sub_grade'] = label_encoder.fit_transform(df['sub_grade'])\n",
        "df['purpose'] = label_encoder.fit_transform(df['purpose'])\n",
        "df['addr_state'] = label_encoder.fit_transform(df['addr_state'])\n"
      ],
      "metadata": {
        "id": "PryI61p0bVTY"
      },
      "execution_count": null,
      "outputs": []
    },
    {
      "cell_type": "markdown",
      "metadata": {
        "id": "lrJuFccuaCf5"
      },
      "source": [
        "### One-hot encoding"
      ]
    },
    {
      "cell_type": "markdown",
      "source": [
        "Use hot encoder to convert columns of objects objects to columns of binary"
      ],
      "metadata": {
        "id": "RzpZRcoBKeU2"
      }
    },
    {
      "cell_type": "code",
      "source": [
        "# Get the list of integer & float columns (excluding the last column)\n",
        "obj_columns = df.select_dtypes(include='object').columns.tolist()\n",
        "df[obj_columns].head(3)"
      ],
      "metadata": {
        "colab": {
          "base_uri": "https://localhost:8080/",
          "height": 143
        },
        "id": "1tf-sl8dbe-e",
        "outputId": "a182bf5c-a221-467d-d9d3-10e177c55caf"
      },
      "execution_count": null,
      "outputs": [
        {
          "output_type": "execute_result",
          "data": {
            "text/plain": [
              "  home_ownership verification_status pymnt_plan initial_list_status  \\\n",
              "0           RENT            Verified          n                   f   \n",
              "1           RENT     Source Verified          n                   f   \n",
              "2           RENT        Not Verified          n                   f   \n",
              "\n",
              "  application_type  \n",
              "0       INDIVIDUAL  \n",
              "1       INDIVIDUAL  \n",
              "2       INDIVIDUAL  "
            ],
            "text/html": [
              "\n",
              "\n",
              "  <div id=\"df-c9b4eb4d-e091-4fa9-8224-a0f4e7a06c93\">\n",
              "    <div class=\"colab-df-container\">\n",
              "      <div>\n",
              "<style scoped>\n",
              "    .dataframe tbody tr th:only-of-type {\n",
              "        vertical-align: middle;\n",
              "    }\n",
              "\n",
              "    .dataframe tbody tr th {\n",
              "        vertical-align: top;\n",
              "    }\n",
              "\n",
              "    .dataframe thead th {\n",
              "        text-align: right;\n",
              "    }\n",
              "</style>\n",
              "<table border=\"1\" class=\"dataframe\">\n",
              "  <thead>\n",
              "    <tr style=\"text-align: right;\">\n",
              "      <th></th>\n",
              "      <th>home_ownership</th>\n",
              "      <th>verification_status</th>\n",
              "      <th>pymnt_plan</th>\n",
              "      <th>initial_list_status</th>\n",
              "      <th>application_type</th>\n",
              "    </tr>\n",
              "  </thead>\n",
              "  <tbody>\n",
              "    <tr>\n",
              "      <th>0</th>\n",
              "      <td>RENT</td>\n",
              "      <td>Verified</td>\n",
              "      <td>n</td>\n",
              "      <td>f</td>\n",
              "      <td>INDIVIDUAL</td>\n",
              "    </tr>\n",
              "    <tr>\n",
              "      <th>1</th>\n",
              "      <td>RENT</td>\n",
              "      <td>Source Verified</td>\n",
              "      <td>n</td>\n",
              "      <td>f</td>\n",
              "      <td>INDIVIDUAL</td>\n",
              "    </tr>\n",
              "    <tr>\n",
              "      <th>2</th>\n",
              "      <td>RENT</td>\n",
              "      <td>Not Verified</td>\n",
              "      <td>n</td>\n",
              "      <td>f</td>\n",
              "      <td>INDIVIDUAL</td>\n",
              "    </tr>\n",
              "  </tbody>\n",
              "</table>\n",
              "</div>\n",
              "      <button class=\"colab-df-convert\" onclick=\"convertToInteractive('df-c9b4eb4d-e091-4fa9-8224-a0f4e7a06c93')\"\n",
              "              title=\"Convert this dataframe to an interactive table.\"\n",
              "              style=\"display:none;\">\n",
              "\n",
              "  <svg xmlns=\"http://www.w3.org/2000/svg\" height=\"24px\"viewBox=\"0 0 24 24\"\n",
              "       width=\"24px\">\n",
              "    <path d=\"M0 0h24v24H0V0z\" fill=\"none\"/>\n",
              "    <path d=\"M18.56 5.44l.94 2.06.94-2.06 2.06-.94-2.06-.94-.94-2.06-.94 2.06-2.06.94zm-11 1L8.5 8.5l.94-2.06 2.06-.94-2.06-.94L8.5 2.5l-.94 2.06-2.06.94zm10 10l.94 2.06.94-2.06 2.06-.94-2.06-.94-.94-2.06-.94 2.06-2.06.94z\"/><path d=\"M17.41 7.96l-1.37-1.37c-.4-.4-.92-.59-1.43-.59-.52 0-1.04.2-1.43.59L10.3 9.45l-7.72 7.72c-.78.78-.78 2.05 0 2.83L4 21.41c.39.39.9.59 1.41.59.51 0 1.02-.2 1.41-.59l7.78-7.78 2.81-2.81c.8-.78.8-2.07 0-2.86zM5.41 20L4 18.59l7.72-7.72 1.47 1.35L5.41 20z\"/>\n",
              "  </svg>\n",
              "      </button>\n",
              "\n",
              "\n",
              "\n",
              "    <div id=\"df-95156d80-5957-43ae-b734-7d80f306c9f7\">\n",
              "      <button class=\"colab-df-quickchart\" onclick=\"quickchart('df-95156d80-5957-43ae-b734-7d80f306c9f7')\"\n",
              "              title=\"Suggest charts.\"\n",
              "              style=\"display:none;\">\n",
              "\n",
              "<svg xmlns=\"http://www.w3.org/2000/svg\" height=\"24px\"viewBox=\"0 0 24 24\"\n",
              "     width=\"24px\">\n",
              "    <g>\n",
              "        <path d=\"M19 3H5c-1.1 0-2 .9-2 2v14c0 1.1.9 2 2 2h14c1.1 0 2-.9 2-2V5c0-1.1-.9-2-2-2zM9 17H7v-7h2v7zm4 0h-2V7h2v10zm4 0h-2v-4h2v4z\"/>\n",
              "    </g>\n",
              "</svg>\n",
              "      </button>\n",
              "    </div>\n",
              "\n",
              "<style>\n",
              "  .colab-df-quickchart {\n",
              "    background-color: #E8F0FE;\n",
              "    border: none;\n",
              "    border-radius: 50%;\n",
              "    cursor: pointer;\n",
              "    display: none;\n",
              "    fill: #1967D2;\n",
              "    height: 32px;\n",
              "    padding: 0 0 0 0;\n",
              "    width: 32px;\n",
              "  }\n",
              "\n",
              "  .colab-df-quickchart:hover {\n",
              "    background-color: #E2EBFA;\n",
              "    box-shadow: 0px 1px 2px rgba(60, 64, 67, 0.3), 0px 1px 3px 1px rgba(60, 64, 67, 0.15);\n",
              "    fill: #174EA6;\n",
              "  }\n",
              "\n",
              "  [theme=dark] .colab-df-quickchart {\n",
              "    background-color: #3B4455;\n",
              "    fill: #D2E3FC;\n",
              "  }\n",
              "\n",
              "  [theme=dark] .colab-df-quickchart:hover {\n",
              "    background-color: #434B5C;\n",
              "    box-shadow: 0px 1px 3px 1px rgba(0, 0, 0, 0.15);\n",
              "    filter: drop-shadow(0px 1px 2px rgba(0, 0, 0, 0.3));\n",
              "    fill: #FFFFFF;\n",
              "  }\n",
              "</style>\n",
              "\n",
              "    <script>\n",
              "      async function quickchart(key) {\n",
              "        const containerElement = document.querySelector('#' + key);\n",
              "        const charts = await google.colab.kernel.invokeFunction(\n",
              "            'suggestCharts', [key], {});\n",
              "      }\n",
              "    </script>\n",
              "\n",
              "      <script>\n",
              "\n",
              "function displayQuickchartButton(domScope) {\n",
              "  let quickchartButtonEl =\n",
              "    domScope.querySelector('#df-95156d80-5957-43ae-b734-7d80f306c9f7 button.colab-df-quickchart');\n",
              "  quickchartButtonEl.style.display =\n",
              "    google.colab.kernel.accessAllowed ? 'block' : 'none';\n",
              "}\n",
              "\n",
              "        displayQuickchartButton(document);\n",
              "      </script>\n",
              "      <style>\n",
              "    .colab-df-container {\n",
              "      display:flex;\n",
              "      flex-wrap:wrap;\n",
              "      gap: 12px;\n",
              "    }\n",
              "\n",
              "    .colab-df-convert {\n",
              "      background-color: #E8F0FE;\n",
              "      border: none;\n",
              "      border-radius: 50%;\n",
              "      cursor: pointer;\n",
              "      display: none;\n",
              "      fill: #1967D2;\n",
              "      height: 32px;\n",
              "      padding: 0 0 0 0;\n",
              "      width: 32px;\n",
              "    }\n",
              "\n",
              "    .colab-df-convert:hover {\n",
              "      background-color: #E2EBFA;\n",
              "      box-shadow: 0px 1px 2px rgba(60, 64, 67, 0.3), 0px 1px 3px 1px rgba(60, 64, 67, 0.15);\n",
              "      fill: #174EA6;\n",
              "    }\n",
              "\n",
              "    [theme=dark] .colab-df-convert {\n",
              "      background-color: #3B4455;\n",
              "      fill: #D2E3FC;\n",
              "    }\n",
              "\n",
              "    [theme=dark] .colab-df-convert:hover {\n",
              "      background-color: #434B5C;\n",
              "      box-shadow: 0px 1px 3px 1px rgba(0, 0, 0, 0.15);\n",
              "      filter: drop-shadow(0px 1px 2px rgba(0, 0, 0, 0.3));\n",
              "      fill: #FFFFFF;\n",
              "    }\n",
              "  </style>\n",
              "\n",
              "      <script>\n",
              "        const buttonEl =\n",
              "          document.querySelector('#df-c9b4eb4d-e091-4fa9-8224-a0f4e7a06c93 button.colab-df-convert');\n",
              "        buttonEl.style.display =\n",
              "          google.colab.kernel.accessAllowed ? 'block' : 'none';\n",
              "\n",
              "        async function convertToInteractive(key) {\n",
              "          const element = document.querySelector('#df-c9b4eb4d-e091-4fa9-8224-a0f4e7a06c93');\n",
              "          const dataTable =\n",
              "            await google.colab.kernel.invokeFunction('convertToInteractive',\n",
              "                                                     [key], {});\n",
              "          if (!dataTable) return;\n",
              "\n",
              "          const docLinkHtml = 'Like what you see? Visit the ' +\n",
              "            '<a target=\"_blank\" href=https://colab.research.google.com/notebooks/data_table.ipynb>data table notebook</a>'\n",
              "            + ' to learn more about interactive tables.';\n",
              "          element.innerHTML = '';\n",
              "          dataTable['output_type'] = 'display_data';\n",
              "          await google.colab.output.renderOutput(dataTable, element);\n",
              "          const docLink = document.createElement('div');\n",
              "          docLink.innerHTML = docLinkHtml;\n",
              "          element.appendChild(docLink);\n",
              "        }\n",
              "      </script>\n",
              "    </div>\n",
              "  </div>\n"
            ]
          },
          "metadata": {},
          "execution_count": 12
        }
      ]
    },
    {
      "cell_type": "code",
      "source": [
        "import pandas as pd\n",
        "from sklearn.preprocessing import OneHotEncoder\n",
        "\n",
        "# Assuming your DataFrame is named df\n",
        "\n",
        "# Specify the columns to encode\n",
        "columns_to_encode = ['home_ownership', 'verification_status', 'pymnt_plan', 'initial_list_status', 'application_type']\n",
        "\n",
        "# Extract the columns to be encoded and reshape them to a 2D array\n",
        "columns_data = df[columns_to_encode].values\n",
        "\n",
        "# Create an instance of the OneHotEncoder\n",
        "one_hot_encoder = OneHotEncoder()\n",
        "\n",
        "# Apply one-hot encoding to the selected columns\n",
        "encoded_data = one_hot_encoder.fit_transform(columns_data)\n",
        "\n",
        "# Get the column names for the one-hot encoded features\n",
        "feature_names = one_hot_encoder.get_feature_names_out(columns_to_encode)\n",
        "\n",
        "# Create a DataFrame with the one-hot encoded columns\n",
        "encoded_df = pd.DataFrame(encoded_data.toarray(), columns=feature_names)\n",
        "\n",
        "# Drop the original columns from the DataFrame\n",
        "df = df.drop(columns=columns_to_encode)\n",
        "\n",
        "# Concatenate the original DataFrame with the one-hot encoded DataFrame\n",
        "df_encoded = pd.concat([df, encoded_df], axis=1)\n",
        "\n"
      ],
      "metadata": {
        "id": "yOHdzujJeuvq"
      },
      "execution_count": null,
      "outputs": []
    },
    {
      "cell_type": "markdown",
      "source": [
        "# **User Defined Feature**"
      ],
      "metadata": {
        "id": "dQm3DwgdtFkP"
      }
    },
    {
      "cell_type": "markdown",
      "source": [
        "##Total Payment Ratio = total payment / loan amount\n",
        "\n",
        "Indicates what proportion of the loan amount has been paid off so far"
      ],
      "metadata": {
        "id": "sqwi1mJ5LgaH"
      }
    },
    {
      "cell_type": "code",
      "source": [
        "def add_total_pymnt_ratio(df, flag):\n",
        "    if flag:\n",
        "        df['total_pymnt_ratio'] = df['total_pymnt'] / df['loan_amnt']\n",
        "    return df\n",
        "\n",
        "df_encoded = add_total_pymnt_ratio(df_encoded, True)\n"
      ],
      "metadata": {
        "id": "h-Uv8IDgszKL"
      },
      "execution_count": null,
      "outputs": []
    },
    {
      "cell_type": "code",
      "source": [
        "# Rearrange df_encoded for default ind to be last column\n",
        "\n",
        "columns = df_encoded.columns.tolist()\n",
        "columns.remove('default_ind')\n",
        "columns.append('default_ind')\n",
        "df_encoded = df_encoded[columns]\n"
      ],
      "metadata": {
        "id": "yiulcTUOQkbE"
      },
      "execution_count": null,
      "outputs": []
    },
    {
      "cell_type": "markdown",
      "source": [
        "## Addressing missing values"
      ],
      "metadata": {
        "id": "ZY8LK8m9her_"
      }
    },
    {
      "cell_type": "markdown",
      "source": [
        "Fill missing values with median and scale all values"
      ],
      "metadata": {
        "id": "ZgAuCuRKKtvr"
      }
    },
    {
      "cell_type": "code",
      "source": [
        "from sklearn.preprocessing import StandardScaler\n",
        "from sklearn.impute import SimpleImputer\n",
        "\n",
        "# Get the list of integer & float columns (excluding the last column target)\n",
        "num_columns = df_encoded.select_dtypes(include=['int64','float64']).columns.tolist()[:-1]\n",
        "\n",
        "# Create a subset of the DataFrame with the integer columns\n",
        "X = df_encoded[num_columns]\n",
        "\n",
        "# Initialize the imputer with a strategy to fill missing values (e.g., using median)\n",
        "imputer = SimpleImputer(strategy='median')\n",
        "\n",
        "# Impute missing values in the integer columns\n",
        "X_imputed = imputer.fit_transform(X)\n",
        "\n",
        "# Initialize the StandardScaler\n",
        "scaler = StandardScaler()\n",
        "\n",
        "# Scale the integer columns\n",
        "scaled_values = scaler.fit_transform(X_imputed)\n",
        "\n",
        "# Create a new DataFrame with the scaled values\n",
        "df_scaled = pd.DataFrame(scaled_values, columns=X.columns)\n",
        "\n",
        "# Assign the scaled values back to the original DataFrame, excluding the last column\n",
        "df_encoded[num_columns] = df_scaled\n"
      ],
      "metadata": {
        "id": "MhT9Lzuuanna"
      },
      "execution_count": null,
      "outputs": []
    },
    {
      "cell_type": "markdown",
      "metadata": {
        "id": "2gNmKuL6iIty"
      },
      "source": [
        "## Filter by correlation to determine the attributes used to train models"
      ]
    },
    {
      "cell_type": "markdown",
      "source": [
        "Create and then sort columns by correlation to default_ind"
      ],
      "metadata": {
        "id": "AYQx47c4K2Rx"
      }
    },
    {
      "cell_type": "code",
      "execution_count": null,
      "metadata": {
        "id": "l_QTJ8ZDCvkf"
      },
      "outputs": [],
      "source": [
        "# Calculate the correlation between numeric variables and the target variable\n",
        "correlation_with_target = df_encoded.corrwith(df['default_ind'])\n",
        "\n",
        "# Sort the correlation values in descending order (absolute values)\n",
        "sorted_correlation = correlation_with_target.abs().sort_values(ascending=False)\n",
        "\n",
        "# Print the sorted correlation values\n",
        "# print(sorted_correlation)\n",
        "\n"
      ]
    },
    {
      "cell_type": "code",
      "source": [
        "# Show all rows\n",
        "pd.set_option('display.max_rows',None)\n",
        "print(sorted_correlation)"
      ],
      "metadata": {
        "colab": {
          "base_uri": "https://localhost:8080/"
        },
        "id": "EZKbg1V8l2J_",
        "outputId": "2b32dbe2-9df7-41e6-b10f-35ba5d92a91d"
      },
      "execution_count": null,
      "outputs": [
        {
          "output_type": "stream",
          "name": "stdout",
          "text": [
            "default_ind                            1.000000\n",
            "recoveries                             0.475738\n",
            "collection_recovery_fee                0.330764\n",
            "out_prncp                              0.225960\n",
            "out_prncp_inv                          0.225959\n",
            "int_rate                               0.155037\n",
            "total_rec_late_fee                     0.140760\n",
            "sub_grade                              0.126923\n",
            "initial_list_status_f                  0.098812\n",
            "initial_list_status_w                  0.098812\n",
            "total_rec_prncp                        0.090336\n",
            "last_pymnt_amnt                        0.087217\n",
            "pymnt_gap                              0.084740\n",
            "inq_last_6mths                         0.074407\n",
            "pymnt_duration                         0.057103\n",
            "total_pymnt_ratio                      0.056362\n",
            "verification_status_Verified           0.050291\n",
            "credit_hist                            0.046097\n",
            "total_rec_int                          0.046050\n",
            "tot_cur_bal                            0.045139\n",
            "revol_util                             0.044479\n",
            "purpose                                0.043574\n",
            "total_pymnt_inv                        0.040232\n",
            "total_pymnt                            0.039220\n",
            "total_rev_hi_lim                       0.037430\n",
            "annual_inc                             0.037066\n",
            "home_ownership_RENT                    0.035016\n",
            "verification_status_Source Verified    0.032761\n",
            "term                                   0.031378\n",
            "home_ownership_MORTGAGE                0.030095\n",
            "open_acc                               0.021698\n",
            "mths_since_last_record                 0.021639\n",
            "total_acc                              0.021087\n",
            "revol_bal                              0.020696\n",
            "pub_rec                                0.019607\n",
            "open_il_12m                            0.018112\n",
            "verification_status_Not Verified       0.016924\n",
            "inq_fi                                 0.016437\n",
            "total_cu_tl                            0.014713\n",
            "emp_length                             0.013833\n",
            "open_il_24m                            0.010993\n",
            "collections_12_mths_ex_med             0.010651\n",
            "open_rv_24m                            0.010228\n",
            "mths_since_rcnt_il                     0.009245\n",
            "delinq_2yrs                            0.009186\n",
            "open_il_6m                             0.008767\n",
            "addr_state                             0.008272\n",
            "funded_amnt_inv                        0.008209\n",
            "total_bal_il                           0.007836\n",
            "max_bal_bc                             0.007657\n",
            "home_ownership_OTHER                   0.007626\n",
            "home_ownership_OWN                     0.007489\n",
            "open_rv_12m                            0.006937\n",
            "mths_since_last_major_derog            0.006194\n",
            "funded_amnt                            0.005797\n",
            "application_type_INDIVIDUAL            0.005446\n",
            "application_type_JOINT                 0.005446\n",
            "loan_amnt                              0.004907\n",
            "installment                            0.004753\n",
            "dti                                    0.004429\n",
            "il_util                                0.004211\n",
            "home_ownership_NONE                    0.003241\n",
            "acc_now_delinq                         0.003116\n",
            "tot_coll_amt                           0.002445\n",
            "open_acc_6m                            0.001802\n",
            "all_util                               0.001602\n",
            "inq_last_12m                           0.001584\n",
            "mths_since_last_delinq                 0.001042\n",
            "annual_inc_joint                       0.000832\n",
            "pymnt_plan_n                           0.000579\n",
            "pymnt_plan_y                           0.000579\n",
            "dti_joint                              0.000459\n",
            "home_ownership_ANY                     0.000449\n",
            "policy_code                                 NaN\n",
            "dtype: float64\n"
          ]
        }
      ]
    },
    {
      "cell_type": "markdown",
      "metadata": {
        "id": "QROumIsRbMo1"
      },
      "source": [
        "We filter out unecessary columns which are those attributes with absolute correlation lower than 0.01 and they will be removed."
      ]
    },
    {
      "cell_type": "code",
      "source": [
        "correlation_threshold = 0.01\n",
        "filtered_columns = df_encoded.columns[df_encoded.corr()['default_ind'].abs() >= correlation_threshold]\n"
      ],
      "metadata": {
        "id": "Cnih646sufrL"
      },
      "execution_count": null,
      "outputs": []
    },
    {
      "cell_type": "code",
      "source": [
        "processed_df = df_encoded[filtered_columns]\n",
        "df = processed_df\n"
      ],
      "metadata": {
        "id": "vh2sWP-5xU75"
      },
      "execution_count": null,
      "outputs": []
    },
    {
      "cell_type": "markdown",
      "metadata": {
        "id": "BmMLf0wzFCXH"
      },
      "source": [
        "## Checking for attributes outliers\n",
        "\n",
        "\n"
      ]
    },
    {
      "cell_type": "code",
      "execution_count": null,
      "metadata": {
        "id": "YgW5lPXqLfUl"
      },
      "outputs": [],
      "source": [
        "outliers = []\n",
        "def outlierFinder(dataF, col):\n",
        "  # Use Quatile 3 value to subtract Quatile 1 value to get interquatile range\n",
        "  # The lower quartile, or first quartile (Q1), is the value under which 25% of data\n",
        "  # The upper quartile, or third quartile (Q3), is the value under which 75% of data\n",
        "  Q1 = np.percentile(np.array(dataF[col].tolist()), 25)\n",
        "  Q3 = np.percentile(np.array(dataF[col].tolist()), 75)\n",
        "  interquatileRange = Q3-Q1\n",
        "\n",
        "  upperBound = Q3 + (3 * interquatileRange)\n",
        "  lowerBound = Q1 - (3 * interquatileRange)\n",
        "\n",
        "  count = 0\n",
        "\n",
        "  for value in dataF[col].tolist():\n",
        "    if((value <lowerBound ) |(value>upperBound)):\n",
        "      # Increment the outliers count when the values fall outside of the interqu\n",
        "      count+=1\n",
        "  outliers.append(count)\n",
        "  return lowerBound, upperBound, count"
      ]
    },
    {
      "cell_type": "markdown",
      "metadata": {
        "id": "GPt3yoYfgeI9"
      },
      "source": [
        "Finding outliers in columns of data type Sparse[uint8, 0] may not be meaningful because these columns typically represent categorical variables encoded using one-hot encoding. The Sparse[uint8, 0] data type is used to efficiently store binary data where most of the entries are zero. Thus, only the outliers of the integer and float attributes will be evaluated."
      ]
    },
    {
      "cell_type": "code",
      "execution_count": null,
      "metadata": {
        "colab": {
          "base_uri": "https://localhost:8080/"
        },
        "id": "nm07Ejr_VSr_",
        "outputId": "1858cd31-e950-4601-c0ad-62dcc90b2010"
      },
      "outputs": [
        {
          "output_type": "stream",
          "name": "stdout",
          "text": [
            "<class 'pandas.core.frame.DataFrame'>\n",
            "Int64Index: 855969 entries, 0 to 855968\n",
            "Data columns (total 43 columns):\n",
            " #   Column                               Non-Null Count   Dtype  \n",
            "---  ------                               --------------   -----  \n",
            " 0   term                                 855969 non-null  float64\n",
            " 1   int_rate                             855969 non-null  float64\n",
            " 2   sub_grade                            855969 non-null  float64\n",
            " 3   emp_length                           855969 non-null  float64\n",
            " 4   annual_inc                           855969 non-null  float64\n",
            " 5   credit_hist                          855969 non-null  float64\n",
            " 6   pymnt_duration                       855969 non-null  float64\n",
            " 7   pymnt_gap                            855969 non-null  float64\n",
            " 8   purpose                              855969 non-null  float64\n",
            " 9   inq_last_6mths                       855969 non-null  float64\n",
            " 10  mths_since_last_record               855969 non-null  float64\n",
            " 11  open_acc                             855969 non-null  float64\n",
            " 12  pub_rec                              855969 non-null  float64\n",
            " 13  revol_bal                            855969 non-null  float64\n",
            " 14  revol_util                           855969 non-null  float64\n",
            " 15  total_acc                            855969 non-null  float64\n",
            " 16  out_prncp                            855969 non-null  float64\n",
            " 17  out_prncp_inv                        855969 non-null  float64\n",
            " 18  total_pymnt                          855969 non-null  float64\n",
            " 19  total_pymnt_inv                      855969 non-null  float64\n",
            " 20  total_rec_prncp                      855969 non-null  float64\n",
            " 21  total_rec_int                        855969 non-null  float64\n",
            " 22  total_rec_late_fee                   855969 non-null  float64\n",
            " 23  recoveries                           855969 non-null  float64\n",
            " 24  collection_recovery_fee              855969 non-null  float64\n",
            " 25  last_pymnt_amnt                      855969 non-null  float64\n",
            " 26  collections_12_mths_ex_med           855969 non-null  float64\n",
            " 27  tot_cur_bal                          855969 non-null  float64\n",
            " 28  open_il_12m                          855969 non-null  float64\n",
            " 29  open_il_24m                          855969 non-null  float64\n",
            " 30  open_rv_24m                          855969 non-null  float64\n",
            " 31  total_rev_hi_lim                     855969 non-null  float64\n",
            " 32  inq_fi                               855969 non-null  float64\n",
            " 33  total_cu_tl                          855969 non-null  float64\n",
            " 34  home_ownership_MORTGAGE              855969 non-null  float64\n",
            " 35  home_ownership_RENT                  855969 non-null  float64\n",
            " 36  verification_status_Not Verified     855969 non-null  float64\n",
            " 37  verification_status_Source Verified  855969 non-null  float64\n",
            " 38  verification_status_Verified         855969 non-null  float64\n",
            " 39  initial_list_status_f                855969 non-null  float64\n",
            " 40  initial_list_status_w                855969 non-null  float64\n",
            " 41  total_pymnt_ratio                    855969 non-null  float64\n",
            " 42  default_ind                          855969 non-null  int64  \n",
            "dtypes: float64(42), int64(1)\n",
            "memory usage: 287.3 MB\n"
          ]
        }
      ],
      "source": [
        "import numpy as np\n",
        "# Select the numerical attributes\n",
        "numerical_att = df.select_dtypes(include=['float64', 'int64'])\n",
        "numerical_att.info()"
      ]
    },
    {
      "cell_type": "code",
      "execution_count": null,
      "metadata": {
        "colab": {
          "base_uri": "https://localhost:8080/"
        },
        "id": "E6hhp_1KgG_I",
        "outputId": "5498637f-ecd3-4f8e-e19f-d3fc4e2163cd"
      },
      "outputs": [
        {
          "output_type": "stream",
          "name": "stdout",
          "text": [
            "There is 11687 outliers in annual_inc\n",
            "There is 1743 outliers in credit_hist\n",
            "There is 53 outliers in pymnt_duration\n",
            "There is 168074 outliers in pymnt_gap\n",
            "There is 350577 outliers in purpose\n",
            "There is 13940 outliers in inq_last_6mths\n",
            "There is 129393 outliers in mths_since_last_record\n",
            "There is 3322 outliers in open_acc\n",
            "There is 130514 outliers in pub_rec\n",
            "There is 17586 outliers in revol_bal\n",
            "There is 4 outliers in revol_util\n",
            "There is 856 outliers in total_acc\n",
            "There is 8079 outliers in total_pymnt\n",
            "There is 8235 outliers in total_pymnt_inv\n",
            "There is 13036 outliers in total_rec_prncp\n",
            "There is 22622 outliers in total_rec_int\n",
            "There is 9974 outliers in total_rec_late_fee\n",
            "There is 24187 outliers in recoveries\n",
            "There is 23035 outliers in collection_recovery_fee\n",
            "There is 144596 outliers in last_pymnt_amnt\n",
            "There is 11145 outliers in collections_12_mths_ex_med\n",
            "There is 6660 outliers in tot_cur_bal\n",
            "There is 6501 outliers in open_il_12m\n",
            "There is 9251 outliers in open_il_24m\n",
            "There is 10801 outliers in open_rv_24m\n",
            "There is 19910 outliers in total_rev_hi_lim\n",
            "There is 6212 outliers in inq_fi\n",
            "There is 6157 outliers in total_cu_tl\n",
            "There is 46467 outliers in default_ind\n"
          ]
        }
      ],
      "source": [
        "# Display the number of outliers of each attribute\n",
        "for attribute in numerical_att:\n",
        "  if(outlierFinder(df, attribute)[2] > 0):\n",
        "    print(f'There is {outlierFinder(df, attribute)[2]} outliers in {attribute}')"
      ]
    },
    {
      "cell_type": "markdown",
      "metadata": {
        "id": "_rdAXa26g605"
      },
      "source": [
        "### Find the attributes with the most outliers"
      ]
    },
    {
      "cell_type": "code",
      "execution_count": null,
      "metadata": {
        "colab": {
          "base_uri": "https://localhost:8080/"
        },
        "id": "jOzGctpMVCjv",
        "outputId": "31105c83-896f-4bb0-b802-211adb575651"
      },
      "outputs": [
        {
          "output_type": "stream",
          "name": "stdout",
          "text": [
            "Total number of outliers:  1204617\n",
            "Outliers in descending orders:  [350577, 168074, 144596, 130514, 129393, 46467, 24187, 23035, 22622, 19910, 17586, 13940, 13036, 11687, 11145, 10801, 9974, 9251, 8235, 8079, 6660, 6501, 6212, 6157, 3322, 1743, 856, 53, 4, 0]\n"
          ]
        }
      ],
      "source": [
        "# To remove outliers in the list\n",
        "unique_outliers = frozenset(outliers)\n",
        "total_outliers = 0\n",
        "sorted_outliers = sorted(unique_outliers, reverse = True)\n",
        "\n",
        "for outlier in unique_outliers:\n",
        " total_outliers += outlier\n",
        "\n",
        "print(\"Total number of outliers: \", total_outliers)\n",
        "# We arrange the outliers number in descending order\n",
        "print(\"Outliers in descending orders: \", sorted_outliers)"
      ]
    },
    {
      "cell_type": "markdown",
      "source": [
        "From the result shown above, the 3 attributes with the most outliers are purpose, pymnt_gap, and pymnt_amnt."
      ],
      "metadata": {
        "id": "zaQ0f8ulaZ6Z"
      }
    },
    {
      "cell_type": "markdown",
      "source": [
        "## Scaling all processed data"
      ],
      "metadata": {
        "id": "CULhlDC8zXRj"
      }
    },
    {
      "cell_type": "code",
      "source": [
        "from sklearn.preprocessing import StandardScaler\n",
        "from sklearn.impute import SimpleImputer\n",
        "\n",
        "# Get the list of integer & float columns (excluding the last column target)\n",
        "num_columns = df.select_dtypes(include=['int64','float64']).columns.tolist()[:-1]\n",
        "\n",
        "# Create a subset of the DataFrame with the integer columns\n",
        "X = df[num_columns]\n",
        "\n",
        "# Initialize the imputer with a strategy to fill missing values (e.g., using mean)\n",
        "imputer = SimpleImputer(strategy='median')\n",
        "\n",
        "# Impute missing values in the integer columns\n",
        "X_imputed = imputer.fit_transform(X)\n",
        "\n",
        "# Initialize the StandardScaler\n",
        "scaler = StandardScaler()\n",
        "\n",
        "# Scale the integer columns\n",
        "scaled_values = scaler.fit_transform(X_imputed)\n",
        "\n",
        "# Create a new DataFrame with the scaled values\n",
        "df_scaled = pd.DataFrame(scaled_values, columns=X.columns)\n",
        "\n",
        "# Assign the scaled values back to the original DataFrame, excluding the last column\n",
        "df[num_columns] = df_scaled"
      ],
      "metadata": {
        "colab": {
          "base_uri": "https://localhost:8080/"
        },
        "id": "0tNDAV92zlii",
        "outputId": "26b7779a-078e-4c37-e36d-b4f8cd48fc43"
      },
      "execution_count": null,
      "outputs": [
        {
          "output_type": "stream",
          "name": "stderr",
          "text": [
            "<ipython-input-25-b676b087eb6a>:26: SettingWithCopyWarning: \n",
            "A value is trying to be set on a copy of a slice from a DataFrame.\n",
            "Try using .loc[row_indexer,col_indexer] = value instead\n",
            "\n",
            "See the caveats in the documentation: https://pandas.pydata.org/pandas-docs/stable/user_guide/indexing.html#returning-a-view-versus-a-copy\n",
            "  df[num_columns] = df_scaled\n"
          ]
        }
      ]
    },
    {
      "cell_type": "code",
      "source": [
        "#df.to_csv('/content/drive/My Drive/mydata.csv', index=False) #midpoint export to csv for future reference\n"
      ],
      "metadata": {
        "id": "DuMV53Cgt2xi"
      },
      "execution_count": null,
      "outputs": []
    },
    {
      "cell_type": "markdown",
      "source": [
        "## Splitting data into test and train data\n",
        "\n",
        "---\n",
        "Training data: X_train, X_test\n",
        "Testing data: y_train, y_test\n",
        "\n"
      ],
      "metadata": {
        "id": "jzZnmLLeytmq"
      }
    },
    {
      "cell_type": "code",
      "source": [
        "from sklearn.model_selection import StratifiedShuffleSplit\n",
        "\n",
        "# Assuming 'default_ind' is the column representing your target variable\n",
        "# Replace 'test_size' with the desired proportion for the test dataset (0.2 for 20%)\n",
        "\n",
        "feature_columns = df.drop('default_ind', axis=1)  # Features (input data)\n",
        "target_column = df['default_ind']  # Target variable (labels)\n",
        "\n",
        "sss = StratifiedShuffleSplit(n_splits=4, test_size=0.2, random_state=42) #i tried n =1, too high accuracy\n",
        "\n",
        "for train_index, test_index in sss.split(feature_columns, target_column):\n",
        "    X_train, X_test = feature_columns.iloc[train_index], feature_columns.iloc[test_index]\n",
        "    y_train, y_test = target_column.iloc[train_index], target_column.iloc[test_index]"
      ],
      "metadata": {
        "id": "gUmNu5M1yryO"
      },
      "execution_count": null,
      "outputs": []
    },
    {
      "cell_type": "markdown",
      "source": [
        "Stratified shuffle split seperates train and test data with a balanced number of cases in relation to the target variable. This gives us a balanced sample for Machine Learning."
      ],
      "metadata": {
        "id": "QAqPKPnxd1Js"
      }
    },
    {
      "cell_type": "markdown",
      "source": [
        "## SMOTE Implementation\n",
        "\n",
        "Apply SMOTE to oversample the minority class in the training set"
      ],
      "metadata": {
        "id": "lOsbNTYH338K"
      }
    },
    {
      "cell_type": "code",
      "source": [
        "from imblearn.over_sampling import SMOTE\n",
        "\n",
        "# Apply SMOTE to oversample the minority class in the training set\n",
        "smote = SMOTE(random_state=42)\n",
        "X_train, y_train = smote.fit_resample(X_train, y_train)"
      ],
      "metadata": {
        "id": "PqqOwFJF4QXO"
      },
      "execution_count": null,
      "outputs": []
    },
    {
      "cell_type": "markdown",
      "source": [
        "SMOTE synthesizes more cases of the minority class (cases where default is 1, 6% of total samples), so that training can be based on more balanced classes."
      ],
      "metadata": {
        "id": "yzLlWXcxeFX5"
      }
    },
    {
      "cell_type": "markdown",
      "source": [
        "# Select and train models"
      ],
      "metadata": {
        "id": "A1PbI5M-19fq"
      }
    },
    {
      "cell_type": "markdown",
      "source": [
        "## Model 1:\n",
        "### Linear Support Vector Classifier\n",
        "\n",
        "Implement Training Model"
      ],
      "metadata": {
        "id": "aVrFiAZR15hx"
      }
    },
    {
      "cell_type": "code",
      "source": [
        "from sklearn.svm import LinearSVC\n",
        "from sklearn.metrics import classification_report, confusion_matrix\n",
        "\n",
        "# Define the model\n",
        "clf = LinearSVC(max_iter=5000)\n",
        "\n",
        "# Train the model\n",
        "clf.fit(X_train, y_train)\n",
        "\n",
        "# Predict the response for test dataset\n",
        "y_pred = clf.predict(X_test)\n",
        "\n",
        "# Evaluating the Model\n",
        "print(classification_report(y_test, y_pred))\n"
      ],
      "metadata": {
        "colab": {
          "base_uri": "https://localhost:8080/"
        },
        "id": "ZwggvHEz2GwL",
        "outputId": "f514ba70-1d04-4c7f-de9d-fd4cb5cc771e"
      },
      "execution_count": null,
      "outputs": [
        {
          "output_type": "stream",
          "name": "stderr",
          "text": [
            "/usr/local/lib/python3.10/dist-packages/sklearn/svm/_base.py:1244: ConvergenceWarning: Liblinear failed to converge, increase the number of iterations.\n",
            "  warnings.warn(\n"
          ]
        },
        {
          "output_type": "stream",
          "name": "stdout",
          "text": [
            "              precision    recall  f1-score   support\n",
            "\n",
            "           0       1.00      0.98      0.99    161901\n",
            "           1       0.74      0.95      0.83      9293\n",
            "\n",
            "    accuracy                           0.98    171194\n",
            "   macro avg       0.87      0.96      0.91    171194\n",
            "weighted avg       0.98      0.98      0.98    171194\n",
            "\n"
          ]
        }
      ]
    },
    {
      "cell_type": "markdown",
      "source": [
        "Linear Support Vector Classifier\n",
        "\n",
        "\n",
        "\n",
        "\n",
        "Visualise Training Model\n"
      ],
      "metadata": {
        "id": "Wv-R1wIc2R-y"
      }
    },
    {
      "cell_type": "code",
      "source": [
        "from sklearn.metrics import roc_curve, auc\n",
        "import matplotlib.pyplot as plt\n",
        "\n",
        "# Compute decision function values for the samples in X_test\n",
        "y_score = clf.decision_function(X_test)\n",
        "\n",
        "# Compute the ROC curve\n",
        "fpr, tpr, thresholds = roc_curve(y_test, y_score)\n",
        "\n",
        "# Compute the area under the ROC curve\n",
        "roc_auc = auc(fpr, tpr)\n",
        "\n",
        "# Plot ROC curve\n",
        "plt.figure()\n",
        "plt.plot(fpr, tpr, color='darkorange', lw=2, label='ROC curve (area = %0.2f)' % roc_auc)\n",
        "plt.plot([0, 1], [0, 1], color='navy', lw=2, linestyle='--') # Reference line for random classifier\n",
        "plt.xlim([0.0, 1.0])\n",
        "plt.ylim([0.0, 1.05])\n",
        "plt.xlabel('False Positive Rate')\n",
        "plt.ylabel('True Positive Rate')\n",
        "plt.title('Receiver Operating Characteristic')\n",
        "plt.legend(loc=\"lower right\")\n",
        "plt.show()"
      ],
      "metadata": {
        "colab": {
          "base_uri": "https://localhost:8080/",
          "height": 472
        },
        "id": "Lq-42GfH2PNB",
        "outputId": "87d3da4d-7375-4134-c34b-773ab8c31b38"
      },
      "execution_count": null,
      "outputs": [
        {
          "output_type": "display_data",
          "data": {
            "text/plain": [
              "<Figure size 640x480 with 1 Axes>"
            ],
            "image/png": "[encoded data removed]"
          },
          "metadata": {}
        }
      ]
    },
    {
      "cell_type": "markdown",
      "source": [
        "Printing of Confusion Matrix\n",
        "\n",
        "[[true negatives, false positives],\n",
        " [false negatives, true positives]]"
      ],
      "metadata": {
        "id": "kJogFWhs2WUP"
      }
    },
    {
      "cell_type": "code",
      "source": [
        "# import the confusion_matrix function\n",
        "from sklearn.metrics import confusion_matrix\n",
        "\n",
        "# Calculate the confusion matrix\n",
        "cm = confusion_matrix(y_test, y_pred)\n",
        "\n",
        "# print the confusion matrix\n",
        "print(cm)\n",
        "\n",
        "TN = cm[0, 0]\n",
        "FP = cm[0, 1]\n",
        "FN = cm[1, 0]\n",
        "TP = cm[1, 1]"
      ],
      "metadata": {
        "colab": {
          "base_uri": "https://localhost:8080/"
        },
        "id": "mDoUotO02XI9",
        "outputId": "1dcdcfe0-58bf-4bc8-ff68-1d46f2614e84"
      },
      "execution_count": null,
      "outputs": [
        {
          "output_type": "stream",
          "name": "stdout",
          "text": [
            "[[158814   3087]\n",
            " [   507   8786]]\n"
          ]
        }
      ]
    },
    {
      "cell_type": "markdown",
      "source": [
        "## Model 2:\n",
        "### XG-Boost\n",
        "\n",
        "Implement Training Model"
      ],
      "metadata": {
        "id": "j2mlxdC54pkb"
      }
    },
    {
      "cell_type": "code",
      "source": [
        "import xgboost as xgb\n",
        "from sklearn.model_selection import train_test_split\n",
        "\n",
        "# Create a XGBoost classifier\n",
        "model = xgb.XGBClassifier(use_label_encoder=False, eval_metric='logloss')\n",
        "\n",
        "# Fit the classifier to the training data\n",
        "model.fit(X_train, y_train)\n",
        "\n",
        "# Predict the labels of the test set\n",
        "y_pred = model.predict(X_test)\n",
        "\n",
        "print(classification_report(y_test, y_pred))\n"
      ],
      "metadata": {
        "colab": {
          "base_uri": "https://localhost:8080/"
        },
        "id": "aAHqICNU42yT",
        "outputId": "977c082c-dc47-464c-90e2-55c280a990a9"
      },
      "execution_count": null,
      "outputs": [
        {
          "output_type": "stream",
          "name": "stderr",
          "text": [
            "/usr/local/lib/python3.10/dist-packages/xgboost/sklearn.py:1395: UserWarning: `use_label_encoder` is deprecated in 1.7.0.\n",
            "  warnings.warn(\"`use_label_encoder` is deprecated in 1.7.0.\")\n"
          ]
        },
        {
          "output_type": "stream",
          "name": "stdout",
          "text": [
            "              precision    recall  f1-score   support\n",
            "\n",
            "           0       1.00      1.00      1.00    161901\n",
            "           1       1.00      1.00      1.00      9293\n",
            "\n",
            "    accuracy                           1.00    171194\n",
            "   macro avg       1.00      1.00      1.00    171194\n",
            "weighted avg       1.00      1.00      1.00    171194\n",
            "\n"
          ]
        }
      ]
    },
    {
      "cell_type": "markdown",
      "source": [
        "XG-Boost\n",
        "\n",
        "\n",
        "\n",
        "\n",
        "Visualise Training Model"
      ],
      "metadata": {
        "id": "_URsh0Ze5Zaz"
      }
    },
    {
      "cell_type": "code",
      "source": [
        "from sklearn.metrics import roc_curve, auc\n",
        "import matplotlib.pyplot as plt\n",
        "\n",
        "# Predict the probabilities of the positive class\n",
        "y_pred_proba = model.predict_proba(X_test)[:, 1]\n",
        "\n",
        "# Generate the ROC curve using the true labels and predicted probabilities\n",
        "fpr, tpr, _ = roc_curve(y_test, y_pred_proba)\n",
        "roc_auc = auc(fpr, tpr)\n",
        "\n",
        "# Plot the ROC curve\n",
        "plt.figure()\n",
        "lw = 2\n",
        "plt.plot(fpr, tpr, color='darkorange', lw=lw, label='ROC curve (area = %0.2f)' % roc_auc)\n",
        "plt.plot([0, 1], [0, 1], color='navy', lw=lw, linestyle='--')\n",
        "plt.xlim([0.0, 1.0])\n",
        "plt.ylim([0.0, 1.05])\n",
        "plt.xlabel('False Positive Rate')\n",
        "plt.ylabel('True Positive Rate')\n",
        "plt.title('Receiver operating characteristic example')\n",
        "plt.legend(loc=\"lower right\")\n",
        "plt.show()"
      ],
      "metadata": {
        "colab": {
          "base_uri": "https://localhost:8080/",
          "height": 472
        },
        "id": "faQeCkC15i0c",
        "outputId": "f3333550-7123-47cd-ef5e-b4de29efd0a5"
      },
      "execution_count": null,
      "outputs": [
        {
          "output_type": "display_data",
          "data": {
            "text/plain": [
              "<Figure size 640x480 with 1 Axes>"
            ],
            "image/png": "[encoded data removed]"
          },
          "metadata": {}
        }
      ]
    },
    {
      "cell_type": "markdown",
      "source": [
        "Printing of Confusion Matrix\n",
        "\n",
        "[[true negatives, false positives],\n",
        " [false negatives, true positives]]"
      ],
      "metadata": {
        "id": "tluYtguC5q29"
      }
    },
    {
      "cell_type": "code",
      "source": [
        "from sklearn.metrics import confusion_matrix\n",
        "\n",
        "print(confusion_matrix(y_test, y_pred))"
      ],
      "metadata": {
        "colab": {
          "base_uri": "https://localhost:8080/"
        },
        "id": "xOmh62Xt5rZG",
        "outputId": "f5253cf0-bdb3-40f4-a1c1-a3e138c22a34"
      },
      "execution_count": null,
      "outputs": [
        {
          "output_type": "stream",
          "name": "stdout",
          "text": [
            "[[161887     14]\n",
            " [    20   9273]]\n"
          ]
        }
      ]
    },
    {
      "cell_type": "markdown",
      "source": [
        "## Model 3:\n",
        "### Decision Tree\n",
        "\n",
        "Implement Training Model"
      ],
      "metadata": {
        "id": "0rYXSB9P54jA"
      }
    },
    {
      "cell_type": "code",
      "source": [
        "from sklearn.tree import DecisionTreeClassifier\n",
        "from sklearn.metrics import classification_report, confusion_matrix, accuracy_score\n",
        "\n",
        "# Assuming X_train and X_test are DataFrames with the same columns after one-hot encoding\n",
        "classifier = DecisionTreeClassifier()\n",
        "classifier.fit(X_train, y_train)\n",
        "\n",
        "# Make predictions on the test data\n",
        "y_predict = classifier.predict(X_test)\n",
        "\n",
        "# Summary of the predictions made by the classifier\n",
        "print(classification_report(y_test, y_predict))\n",
        "print(confusion_matrix(y_test, y_predict))\n",
        "\n",
        "# Accuracy score\n",
        "print('accuracy is', accuracy_score(y_test, y_predict))\n"
      ],
      "metadata": {
        "colab": {
          "base_uri": "https://localhost:8080/"
        },
        "id": "SaK-TPCz57U9",
        "outputId": "e4e35373-e148-4450-91fb-f9ee12b11af6"
      },
      "execution_count": null,
      "outputs": [
        {
          "output_type": "stream",
          "name": "stdout",
          "text": [
            "              precision    recall  f1-score   support\n",
            "\n",
            "           0       1.00      1.00      1.00    161901\n",
            "           1       0.99      1.00      0.99      9293\n",
            "\n",
            "    accuracy                           1.00    171194\n",
            "   macro avg       1.00      1.00      1.00    171194\n",
            "weighted avg       1.00      1.00      1.00    171194\n",
            "\n",
            "[[161834     67]\n",
            " [    32   9261]]\n",
            "accuracy is 0.9994217087047443\n"
          ]
        }
      ]
    },
    {
      "cell_type": "markdown",
      "source": [
        "Decision Tree\n",
        "\n",
        "Printing of Confusion Matrix\n",
        "\n",
        "[[true negatives, false positives],\n",
        " [false negatives, true positives]]"
      ],
      "metadata": {
        "id": "-uTYFCMk6FAV"
      }
    },
    {
      "cell_type": "code",
      "source": [
        "# Calculate the confusion matrix\n",
        "cm = confusion_matrix(y_test, y_pred)\n",
        "\n",
        "# print the confusion matrix\n",
        "print(cm)\n",
        "\n",
        "TN = cm[0, 0]\n",
        "FP = cm[0, 1]\n",
        "FN = cm[1, 0]\n",
        "TP = cm[1, 1]"
      ],
      "metadata": {
        "colab": {
          "base_uri": "https://localhost:8080/"
        },
        "id": "GKiLlFjq6Flg",
        "outputId": "9d34fac9-bb6b-47a5-fd09-39a0aa3e31fe"
      },
      "execution_count": null,
      "outputs": [
        {
          "output_type": "stream",
          "name": "stdout",
          "text": [
            "[[161887     14]\n",
            " [    20   9273]]\n"
          ]
        }
      ]
    },
    {
      "cell_type": "markdown",
      "metadata": {
        "id": "TMjEP2ubcYLU"
      },
      "source": [
        "### k-fold cross-validation"
      ]
    },
    {
      "cell_type": "markdown",
      "metadata": {
        "id": "y_l-PwSJhVwH"
      },
      "source": [
        "Based on the accuracy result in the previous session, the decision tree model has a very high accuracy of around 99%, which is in doubt to be a result of overfitting. Thus, we will check this overfitting by using k-fold cross-validation. <br/>\n",
        "\n",
        "This technique involves splitting the data into k subsets (folds), training the model on k-1 subsets, and then evaluating it on the remaining fold. This process is repeated k times, with each subset acting as the test set once. <br/>\n",
        "\n",
        "The output will show the accuracy of the model on each fold and the average accuracy over all folds. If the average accuracy is close to the accuracy on the training data, it indicates that the model is not overfitting and generalizes well to new data. However, if there is a significant drop in accuracy between training and validation, it may indicate overfitting."
      ]
    },
    {
      "cell_type": "code",
      "execution_count": null,
      "metadata": {
        "colab": {
          "base_uri": "https://localhost:8080/"
        },
        "id": "UsNaEzZvhcdk",
        "outputId": "1457e028-1c31-4ffe-b370-8485ac0dc7e0"
      },
      "outputs": [
        {
          "name": "stderr",
          "output_type": "stream",
          "text": [
            "/usr/local/lib/python3.10/dist-packages/sklearn/utils/validation.py:768: UserWarning: pandas.DataFrame with sparse columns found.It will be converted to a dense numpy array.\n",
            "  warnings.warn(\n",
            "/usr/local/lib/python3.10/dist-packages/sklearn/utils/validation.py:768: UserWarning: pandas.DataFrame with sparse columns found.It will be converted to a dense numpy array.\n",
            "  warnings.warn(\n",
            "/usr/local/lib/python3.10/dist-packages/sklearn/utils/validation.py:768: UserWarning: pandas.DataFrame with sparse columns found.It will be converted to a dense numpy array.\n",
            "  warnings.warn(\n",
            "/usr/local/lib/python3.10/dist-packages/sklearn/utils/validation.py:768: UserWarning: pandas.DataFrame with sparse columns found.It will be converted to a dense numpy array.\n",
            "  warnings.warn(\n",
            "/usr/local/lib/python3.10/dist-packages/sklearn/utils/validation.py:768: UserWarning: pandas.DataFrame with sparse columns found.It will be converted to a dense numpy array.\n",
            "  warnings.warn(\n",
            "/usr/local/lib/python3.10/dist-packages/sklearn/utils/validation.py:768: UserWarning: pandas.DataFrame with sparse columns found.It will be converted to a dense numpy array.\n",
            "  warnings.warn(\n",
            "/usr/local/lib/python3.10/dist-packages/sklearn/utils/validation.py:768: UserWarning: pandas.DataFrame with sparse columns found.It will be converted to a dense numpy array.\n",
            "  warnings.warn(\n",
            "/usr/local/lib/python3.10/dist-packages/sklearn/utils/validation.py:768: UserWarning: pandas.DataFrame with sparse columns found.It will be converted to a dense numpy array.\n",
            "  warnings.warn(\n",
            "/usr/local/lib/python3.10/dist-packages/sklearn/utils/validation.py:768: UserWarning: pandas.DataFrame with sparse columns found.It will be converted to a dense numpy array.\n",
            "  warnings.warn(\n"
          ]
        },
        {
          "name": "stdout",
          "output_type": "stream",
          "text": [
            "Accuracy for each fold: [0.99901427 0.99881713 0.99894126 0.99897046 0.99899967]\n",
            "Average accuracy: 0.9989485597459019\n"
          ]
        },
        {
          "name": "stderr",
          "output_type": "stream",
          "text": [
            "/usr/local/lib/python3.10/dist-packages/sklearn/utils/validation.py:768: UserWarning: pandas.DataFrame with sparse columns found.It will be converted to a dense numpy array.\n",
            "  warnings.warn(\n"
          ]
        }
      ],
      "source": [
        "from sklearn.model_selection import cross_val_score\n",
        "from sklearn.tree import DecisionTreeClassifier\n",
        "\n",
        "# Create the decision tree classifier\n",
        "classifier = DecisionTreeClassifier()\n",
        "\n",
        "# Perform k-fold cross-validation with k=5 (you can change k as needed)\n",
        "k = 5\n",
        "scores = cross_val_score(classifier, X_train, y_train, cv=k, scoring='accuracy')\n",
        "\n",
        "# Print the accuracy for each fold\n",
        "print(\"Accuracy for each fold:\", scores)\n",
        "\n",
        "# Print the average accuracy over all folds\n",
        "average_accuracy = scores.mean()\n",
        "print(\"Average accuracy:\", average_accuracy)\n"
      ]
    },
    {
      "cell_type": "markdown",
      "metadata": {
        "id": "nKaWFxZihmFg"
      },
      "source": [
        "From the results shown above, the accuracy for each fold is highly similar to the average accuracy. Thus, this indicates that the model is not overfitting."
      ]
    },
    {
      "cell_type": "markdown",
      "source": [
        "## Model 4:\n",
        "### Random Forest\n",
        "\n",
        "Implement Training Model"
      ],
      "metadata": {
        "id": "f3qgfKmq6waI"
      }
    },
    {
      "cell_type": "code",
      "source": [
        "from sklearn.ensemble import RandomForestClassifier\n",
        "\n",
        "classifier = RandomForestClassifier(random_state=42)\n",
        "classifier.fit(X_train, y_train)\n",
        "y_predict = classifier.predict(X_test)\n",
        "\n",
        "# Summary of the predictions made by the classifier\n",
        "print(classification_report(y_test, y_predict))\n",
        "print(confusion_matrix(y_test, y_predict))\n",
        "\n",
        "# Accuracy score\n",
        "print('Accuracy is',accuracy_score(y_predict,y_test))"
      ],
      "metadata": {
        "colab": {
          "base_uri": "https://localhost:8080/"
        },
        "id": "u7iSGtAI61U2",
        "outputId": "7d3f9ea7-2c2e-465c-f5b8-ca072f535fc7"
      },
      "execution_count": null,
      "outputs": [
        {
          "output_type": "stream",
          "name": "stdout",
          "text": [
            "              precision    recall  f1-score   support\n",
            "\n",
            "           0       1.00      1.00      1.00    161901\n",
            "           1       1.00      1.00      1.00      9293\n",
            "\n",
            "    accuracy                           1.00    171194\n",
            "   macro avg       1.00      1.00      1.00    171194\n",
            "weighted avg       1.00      1.00      1.00    171194\n",
            "\n",
            "[[161885     16]\n",
            " [    44   9249]]\n",
            "Accuracy is 0.9996495204271177\n"
          ]
        }
      ]
    },
    {
      "cell_type": "markdown",
      "source": [
        "Random Forest\n",
        "\n",
        "Printing of Confusion Matrix\n",
        "\n",
        "[[true negatives, false positives],\n",
        " [false negatives, true positives]]"
      ],
      "metadata": {
        "id": "xHmskZQi64-C"
      }
    },
    {
      "cell_type": "code",
      "source": [
        "# Calculate the confusion matrix\n",
        "cm = confusion_matrix(y_test, y_pred)\n",
        "\n",
        "# print the confusion matrix\n",
        "print(cm)\n",
        "\n",
        "TN = cm[0, 0]\n",
        "FP = cm[0, 1]\n",
        "FN = cm[1, 0]\n",
        "TP = cm[1, 1]"
      ],
      "metadata": {
        "colab": {
          "base_uri": "https://localhost:8080/"
        },
        "id": "2Erwe1zb6_ny",
        "outputId": "ead8e44d-b1a6-41a3-a9e5-31ed2570876e"
      },
      "execution_count": null,
      "outputs": [
        {
          "output_type": "stream",
          "name": "stdout",
          "text": [
            "[[161887     14]\n",
            " [    20   9273]]\n"
          ]
        }
      ]
    },
    {
      "cell_type": "markdown",
      "metadata": {
        "id": "s0Fe60odk35A"
      },
      "source": [
        "\n",
        "\n",
        "### k-fold cross-validation"
      ]
    },
    {
      "cell_type": "code",
      "execution_count": null,
      "metadata": {
        "colab": {
          "base_uri": "https://localhost:8080/"
        },
        "id": "O0Ox_-njij6I",
        "outputId": "d799240e-f2f6-4cc0-93df-b95675bd9344"
      },
      "outputs": [
        {
          "name": "stderr",
          "output_type": "stream",
          "text": [
            "/usr/local/lib/python3.10/dist-packages/sklearn/utils/validation.py:768: UserWarning: pandas.DataFrame with sparse columns found.It will be converted to a dense numpy array.\n",
            "  warnings.warn(\n",
            "/usr/local/lib/python3.10/dist-packages/sklearn/utils/validation.py:768: UserWarning: pandas.DataFrame with sparse columns found.It will be converted to a dense numpy array.\n",
            "  warnings.warn(\n",
            "/usr/local/lib/python3.10/dist-packages/sklearn/utils/validation.py:768: UserWarning: pandas.DataFrame with sparse columns found.It will be converted to a dense numpy array.\n",
            "  warnings.warn(\n",
            "/usr/local/lib/python3.10/dist-packages/sklearn/utils/validation.py:768: UserWarning: pandas.DataFrame with sparse columns found.It will be converted to a dense numpy array.\n",
            "  warnings.warn(\n",
            "/usr/local/lib/python3.10/dist-packages/sklearn/utils/validation.py:768: UserWarning: pandas.DataFrame with sparse columns found.It will be converted to a dense numpy array.\n",
            "  warnings.warn(\n",
            "/usr/local/lib/python3.10/dist-packages/sklearn/utils/validation.py:768: UserWarning: pandas.DataFrame with sparse columns found.It will be converted to a dense numpy array.\n",
            "  warnings.warn(\n",
            "/usr/local/lib/python3.10/dist-packages/sklearn/utils/validation.py:768: UserWarning: pandas.DataFrame with sparse columns found.It will be converted to a dense numpy array.\n",
            "  warnings.warn(\n",
            "/usr/local/lib/python3.10/dist-packages/sklearn/utils/validation.py:768: UserWarning: pandas.DataFrame with sparse columns found.It will be converted to a dense numpy array.\n",
            "  warnings.warn(\n",
            "/usr/local/lib/python3.10/dist-packages/sklearn/utils/validation.py:768: UserWarning: pandas.DataFrame with sparse columns found.It will be converted to a dense numpy array.\n",
            "  warnings.warn(\n",
            "/usr/local/lib/python3.10/dist-packages/sklearn/utils/validation.py:768: UserWarning: pandas.DataFrame with sparse columns found.It will be converted to a dense numpy array.\n",
            "  warnings.warn(\n"
          ]
        },
        {
          "name": "stdout",
          "output_type": "stream",
          "text": [
            "Accuracy for each fold: [0.99904348 0.99886824 0.99893396 0.99897046 0.99898507]\n",
            "Average accuracy: 0.9989602424153918\n"
          ]
        }
      ],
      "source": [
        "from sklearn.ensemble import RandomForestClassifier\n",
        "from sklearn.model_selection import cross_val_score\n",
        "\n",
        "# Assuming you have X_train and Y_train as your training data\n",
        "\n",
        "# Create the Random Forest classifier\n",
        "classifier = RandomForestClassifier()\n",
        "\n",
        "# Perform k-fold cross-validation with k=5 (you can change k as needed)\n",
        "k = 5\n",
        "scores = cross_val_score(classifier, X_train, y_train, cv=k, scoring='accuracy')\n",
        "\n",
        "# Print the accuracy for each fold\n",
        "print(\"Accuracy for each fold:\", scores)\n",
        "\n",
        "# Print the average accuracy over all folds\n",
        "average_accuracy = scores.mean()\n",
        "print(\"Average accuracy:\", average_accuracy)\n"
      ]
    },
    {
      "cell_type": "markdown",
      "metadata": {
        "id": "pEkyl004o_wR"
      },
      "source": [
        "From the results shown above, the accuracy for each fold is highly similar to the average accuracy. Thus, this indicates that the model is not overfitting."
      ]
    },
    {
      "cell_type": "markdown",
      "source": [
        "## Model 5:\n",
        "### Logistical Regression\n",
        "\n",
        "Implement Training Model"
      ],
      "metadata": {
        "id": "qeDd7Itl7FIa"
      }
    },
    {
      "cell_type": "code",
      "source": [
        "from sklearn.linear_model import LogisticRegression\n",
        "from sklearn.metrics import accuracy_score, classification_report\n",
        "\n",
        "# Create an instance of the logistic regression model\n",
        "model = LogisticRegression(max_iter=1000)\n",
        "\n",
        "# Fit the model to the resampled training data\n",
        "model.fit(X_train, y_train)\n",
        "\n",
        "# Make predictions on the scaled testing data\n",
        "y_pred = model.predict(X_test)\n",
        "\n",
        "# Evaluate the model using accuracy\n",
        "accuracy = accuracy_score(y_test, y_pred)\n",
        "print(\"Accuracy:\", accuracy)\n",
        "\n",
        "# Print the classification report for more detailed evaluation\n",
        "print(\"Classification Report:\")\n",
        "print(classification_report(y_test, y_pred))\n"
      ],
      "metadata": {
        "colab": {
          "base_uri": "https://localhost:8080/"
        },
        "id": "1BDMWLVo7JGA",
        "outputId": "2a439a1d-5d0c-4a73-c7f9-13a19735230c"
      },
      "execution_count": null,
      "outputs": [
        {
          "output_type": "stream",
          "name": "stdout",
          "text": [
            "Accuracy: 0.9777036578384757\n",
            "Classification Report:\n",
            "              precision    recall  f1-score   support\n",
            "\n",
            "           0       1.00      0.98      0.99    161901\n",
            "           1       0.72      0.95      0.82      9293\n",
            "\n",
            "    accuracy                           0.98    171194\n",
            "   macro avg       0.86      0.96      0.91    171194\n",
            "weighted avg       0.98      0.98      0.98    171194\n",
            "\n"
          ]
        }
      ]
    },
    {
      "cell_type": "markdown",
      "source": [
        "Logistical Regression\n",
        "\n",
        "Printing of Confusion Matrix\n",
        "\n",
        "[[true negatives, false positives],\n",
        " [false negatives, true positives]]"
      ],
      "metadata": {
        "id": "ubj-SWMV7RTm"
      }
    },
    {
      "cell_type": "code",
      "source": [
        "# Calculate the confusion matrix\n",
        "cm = confusion_matrix(y_test, y_pred)\n",
        "\n",
        "# print the confusion matrix\n",
        "print(cm)\n",
        "\n",
        "TN = cm[0, 0]\n",
        "FP = cm[0, 1]\n",
        "FN = cm[1, 0]\n",
        "TP = cm[1, 1]"
      ],
      "metadata": {
        "colab": {
          "base_uri": "https://localhost:8080/"
        },
        "id": "Alo38oJz7Pl5",
        "outputId": "cab51fc2-4282-4493-c474-bb5e2f967fb4"
      },
      "execution_count": null,
      "outputs": [
        {
          "output_type": "stream",
          "name": "stdout",
          "text": [
            "[[158546   3355]\n",
            " [   462   8831]]\n"
          ]
        }
      ]
    },
    {
      "cell_type": "markdown",
      "source": [
        "## Model 6:\n",
        "### K Nearest Neighbours\n",
        "\n",
        "Implement Training Model"
      ],
      "metadata": {
        "id": "5BcUPAAg7cDL"
      }
    },
    {
      "cell_type": "code",
      "source": [
        "from sklearn.neighbors import KNeighborsClassifier\n",
        "\n",
        "# Create an instance of the k-Nearest Neighbors (KNN) classifier\n",
        "knn = KNeighborsClassifier(n_neighbors=5)  # You can set the number of neighbors (k) based on your choice\n",
        "\n",
        "# Fit the KNN classifier to the scaled training data\n",
        "knn.fit(X_train, y_train)\n",
        "\n",
        "# Make predictions on the scaled testing data\n",
        "y_pred = knn.predict(X_test)\n",
        "\n",
        "# Evaluate the model using accuracy\n",
        "accuracy = accuracy_score(y_test, y_pred)\n",
        "print(\"Accuracy:\", accuracy)\n",
        "\n",
        "# Print the classification report and confusion matrix for more detailed evaluation\n",
        "print(\"Classification Report:\")\n",
        "print(classification_report(y_test, y_pred))\n"
      ],
      "metadata": {
        "colab": {
          "base_uri": "https://localhost:8080/"
        },
        "id": "KLpH9NjB7jKL",
        "outputId": "22b9d5b5-6578-4581-d01c-f1efd798d4db"
      },
      "execution_count": null,
      "outputs": [
        {
          "output_type": "stream",
          "name": "stdout",
          "text": [
            "Accuracy: 0.9587836022290501\n",
            "Classification Report:\n",
            "              precision    recall  f1-score   support\n",
            "\n",
            "           0       0.99      0.96      0.98    161901\n",
            "           1       0.58      0.88      0.70      9293\n",
            "\n",
            "    accuracy                           0.96    171194\n",
            "   macro avg       0.79      0.92      0.84    171194\n",
            "weighted avg       0.97      0.96      0.96    171194\n",
            "\n"
          ]
        }
      ]
    },
    {
      "cell_type": "markdown",
      "source": [
        "Logistical Regression\n",
        "\n",
        "Printing of Confusion Matrix\n",
        "\n",
        "[[true negatives, false positives],\n",
        " [false negatives, true positives]]"
      ],
      "metadata": {
        "id": "IvUdYrC37q7U"
      }
    },
    {
      "cell_type": "code",
      "source": [
        "# Calculate the confusion matrix\n",
        "cm = confusion_matrix(y_test, y_pred)\n",
        "\n",
        "# print the confusion matrix\n",
        "print(cm)\n",
        "\n",
        "TN = cm[0, 0]\n",
        "FP = cm[0, 1]\n",
        "FN = cm[1, 0]\n",
        "TP = cm[1, 1]"
      ],
      "metadata": {
        "colab": {
          "base_uri": "https://localhost:8080/"
        },
        "id": "Xdh4G0Bl7rkL",
        "outputId": "8730ea14-134f-4b0a-af12-59600cb2b8f2"
      },
      "execution_count": null,
      "outputs": [
        {
          "output_type": "stream",
          "name": "stdout",
          "text": [
            "[[155949   5952]\n",
            " [  1104   8189]]\n"
          ]
        }
      ]
    },
    {
      "cell_type": "markdown",
      "source": [
        "# Fine-tune the models"
      ],
      "metadata": {
        "id": "5cyrK6lYWjW2"
      }
    },
    {
      "cell_type": "markdown",
      "source": [
        "## K Nearest Neighbours"
      ],
      "metadata": {
        "id": "Da_W-TegKpTw"
      }
    },
    {
      "cell_type": "markdown",
      "source": [
        "### Adjustment of parameters (selection of value of k)\n",
        "\n",
        "\n"
      ],
      "metadata": {
        "id": "5bLoiH6pKx8N"
      }
    },
    {
      "cell_type": "markdown",
      "source": [
        "k = 50\n"
      ],
      "metadata": {
        "id": "gR5f3486DAjl"
      }
    },
    {
      "cell_type": "code",
      "source": [
        "from sklearn.neighbors import KNeighborsClassifier\n",
        "from sklearn.metrics import classification_report, confusion_matrix, accuracy_score\n",
        "\n",
        "# Create an instance of the k-Nearest Neighbors (KNN) classifier\n",
        "knn = KNeighborsClassifier(n_neighbors=50)  # You can set the number of neighbors (k) based on your choice\n",
        "\n",
        "# Fit the KNN classifier to the scaled training data\n",
        "knn.fit(X_train, y_train)\n",
        "\n",
        "# Make predictions on the scaled testing data\n",
        "y_pred = knn.predict(X_test)\n",
        "\n",
        "# Evaluate the model using accuracy\n",
        "accuracy = accuracy_score(y_test, y_pred)\n",
        "print(\"Accuracy:\", accuracy)\n",
        "\n",
        "# Print the classification report and confusion matrix for more detailed evaluation\n",
        "print(\"Classification Report:\")\n",
        "print(classification_report(y_test, y_pred))"
      ],
      "metadata": {
        "id": "vTbV77DLK_op",
        "colab": {
          "base_uri": "https://localhost:8080/"
        },
        "outputId": "1e6ed5a1-c706-4742-e772-57d48bfcff93"
      },
      "execution_count": null,
      "outputs": [
        {
          "output_type": "stream",
          "name": "stdout",
          "text": [
            "Accuracy: 0.9264168136733764\n",
            "Classification Report:\n",
            "              precision    recall  f1-score   support\n",
            "\n",
            "           0       1.00      0.93      0.96    161901\n",
            "           1       0.42      0.94      0.58      9293\n",
            "\n",
            "    accuracy                           0.93    171194\n",
            "   macro avg       0.71      0.93      0.77    171194\n",
            "weighted avg       0.96      0.93      0.94    171194\n",
            "\n"
          ]
        }
      ]
    },
    {
      "cell_type": "markdown",
      "source": [
        "## GridSearch for best K Value for KNN Model\n",
        "\n",
        "\n"
      ],
      "metadata": {
        "id": "l_VZzUaODCzb"
      }
    },
    {
      "cell_type": "code",
      "source": [
        "from sklearn.model_selection import GridSearchCV\n",
        "from sklearn.neighbors import KNeighborsClassifier\n",
        "from sklearn.metrics import accuracy_score, classification_report\n",
        "\n",
        "# Assuming 'X_train' and 'y_train' are your training data and labels\n",
        "# Assuming 'X_test' and 'y_test' are your testing data and labels\n",
        "\n",
        "# Create an instance of the KNN classifier\n",
        "knn = KNeighborsClassifier()\n",
        "\n",
        "# Define the hyperparameter grid to search\n",
        "param_grid = {'n_neighbors': [1, 3, 5, 7, 10, 15, 20, 25, 50, 100, 200]}\n",
        "\n",
        "# Create a GridSearchCV object and perform the search\n",
        "grid_search = GridSearchCV(knn, param_grid, cv=5)  # 'cv' is the number of cross-validation folds\n",
        "grid_search.fit(X_train, y_train)\n",
        "\n",
        "# Get the best hyperparameters and the corresponding model\n",
        "best_k = grid_search.best_params_['n_neighbors']\n",
        "best_knn_model = grid_search.best_estimator_\n",
        "\n",
        "# Print the best k value\n",
        "print(\"Best k:\", best_k)\n",
        "\n",
        "# Retrain the best model on the full training set\n",
        "best_knn_model.fit(X_train, y_train)\n",
        "\n",
        "# Make predictions on the test set using the best model\n",
        "y_pred = best_knn_model.predict(X_test)\n",
        "\n",
        "# Evaluate the model using accuracy\n",
        "accuracy = accuracy_score(y_test, y_pred)\n",
        "print(\"Accuracy:\", accuracy)\n",
        "\n",
        "# Print the classification report and confusion matrix for more detailed evaluation\n",
        "print(\"Classification Report:\")\n",
        "print(classification_report(y_test, y_pred))\n"
      ],
      "metadata": {
        "id": "28rddpLTo5eK"
      },
      "execution_count": null,
      "outputs": []
    },
    {
      "cell_type": "markdown",
      "source": [
        "\n",
        "Best k: 3\n",
        "\n",
        "Accuracy: 0.9812318188721567\n",
        "\n",
        "Classification Report:\n",
        "\n",
        "              precision    recall  f1-score   support\n",
        "\n",
        "           0       0.98      1.00      0.99    161901\n",
        "           1       0.96      0.68      0.80      9293\n",
        "\n",
        "    accuracy                           0.98    171194\n",
        "\n",
        "   macro avg       0.97      0.84      0.89    171194\n",
        "\n",
        "weighted avg       0.98      0.98      0.98    171194\n",
        "\n"
      ],
      "metadata": {
        "id": "14q7uJ9VpGGN"
      }
    },
    {
      "cell_type": "markdown",
      "source": [
        "Tuning of the KNN model improved precison, at the expense of recall, and gave an overall higher f1-score. However, for the cases of capturing all possible defualt cases, compromising recall score might not be a favorable outcome."
      ],
      "metadata": {
        "id": "BDaptT_U_cCO"
      }
    },
    {
      "cell_type": "markdown",
      "source": [
        "## XG BOOST"
      ],
      "metadata": {
        "id": "vP06o44MdEHh"
      }
    },
    {
      "cell_type": "markdown",
      "source": [
        "XG BOOST CROSS VALIDATION TEST"
      ],
      "metadata": {
        "id": "e7Uhwm2_eCAO"
      }
    },
    {
      "cell_type": "code",
      "source": [
        "import xgboost as xgb\n",
        "from sklearn.model_selection import train_test_split\n",
        "\n",
        "# Assuming processed_df is your DataFrame and 'default_ind' is the target variable\n",
        "X = processed_df.drop(columns='default_ind')\n",
        "y = processed_df['default_ind']\n",
        "\n",
        "# convert the dataset into an optimized data structure that the model can use\n",
        "dtrain = xgb.DMatrix(X, label=y)\n",
        "\n",
        "# specify the hyperparameters\n",
        "params = {\n",
        "    'objective':'binary:logistic',\n",
        "    'max_depth': 4,\n",
        "    'alpha': 10,\n",
        "    'learning_rate': 0.1,\n",
        "    'n_estimators':100,\n",
        "}\n",
        "\n",
        "# Perform cross-validation: metrics to be monitored are logloss for binary classification\n",
        "cv_results = xgb.cv(\n",
        "    dtrain=dtrain,\n",
        "    params=params,\n",
        "    nfold=5,\n",
        "    num_boost_round=50,\n",
        "    early_stopping_rounds=10,\n",
        "    metrics=\"logloss\",\n",
        "    as_pandas=True,\n",
        "    seed=123,\n",
        ")\n",
        "\n",
        "print(cv_results)\n"
      ],
      "metadata": {
        "colab": {
          "base_uri": "https://localhost:8080/"
        },
        "id": "HgLWP3nKWvSW",
        "outputId": "453b7e52-2c05-4f0f-f51a-60e83c60a411"
      },
      "execution_count": null,
      "outputs": [
        {
          "output_type": "stream",
          "name": "stdout",
          "text": [
            "[14:45:37] WARNING: ../src/learner.cc:767: \n",
            "Parameters: { \"n_estimators\" } are not used.\n",
            "\n",
            "[14:45:42] WARNING: ../src/learner.cc:767: \n",
            "Parameters: { \"n_estimators\" } are not used.\n",
            "\n",
            "[14:45:46] WARNING: ../src/learner.cc:767: \n",
            "Parameters: { \"n_estimators\" } are not used.\n",
            "\n",
            "[14:45:49] WARNING: ../src/learner.cc:767: \n",
            "Parameters: { \"n_estimators\" } are not used.\n",
            "\n",
            "[14:45:55] WARNING: ../src/learner.cc:767: \n",
            "Parameters: { \"n_estimators\" } are not used.\n",
            "\n",
            "    train-logloss-mean  train-logloss-std  test-logloss-mean  test-logloss-std\n",
            "0             0.602707           0.000015           0.602717          0.000044\n",
            "1             0.528571           0.000026           0.528577          0.000077\n",
            "2             0.466739           0.000068           0.466762          0.000162\n",
            "3             0.414393           0.000111           0.414422          0.000256\n",
            "4             0.369598           0.000033           0.369616          0.000145\n",
            "5             0.330907           0.000025           0.330923          0.000158\n",
            "6             0.297329           0.000153           0.297347          0.000141\n",
            "7             0.268020           0.000027           0.268038          0.000151\n",
            "8             0.242203           0.000035           0.242221          0.000124\n",
            "9             0.219643           0.000030           0.219663          0.000142\n",
            "10            0.199556           0.000033           0.199578          0.000122\n",
            "11            0.181564           0.000429           0.181585          0.000356\n",
            "12            0.164778           0.000340           0.164806          0.000280\n",
            "13            0.149920           0.000267           0.149954          0.000220\n",
            "14            0.136743           0.000209           0.136779          0.000180\n",
            "15            0.125012           0.000168           0.125047          0.000151\n",
            "16            0.114591           0.000066           0.114633          0.000122\n",
            "17            0.105247           0.000072           0.105288          0.000129\n",
            "18            0.096938           0.000097           0.096972          0.000149\n",
            "19            0.089442           0.000083           0.089485          0.000109\n",
            "20            0.082694           0.000061           0.082741          0.000118\n",
            "21            0.076612           0.000042           0.076666          0.000120\n",
            "22            0.070853           0.000060           0.070907          0.000109\n",
            "23            0.065710           0.000098           0.065764          0.000129\n",
            "24            0.061101           0.000098           0.061163          0.000113\n",
            "25            0.056891           0.000064           0.056953          0.000109\n",
            "26            0.053081           0.000061           0.053143          0.000117\n",
            "27            0.049681           0.000055           0.049750          0.000116\n",
            "28            0.046251           0.000249           0.046336          0.000270\n",
            "29            0.043253           0.000087           0.043338          0.000129\n",
            "30            0.040367           0.000115           0.040453          0.000169\n",
            "31            0.037991           0.000087           0.038084          0.000116\n",
            "32            0.035615           0.000077           0.035703          0.000205\n",
            "33            0.033647           0.000137           0.033733          0.000264\n",
            "34            0.031640           0.000180           0.031739          0.000282\n",
            "35            0.029985           0.000046           0.030084          0.000170\n",
            "36            0.028312           0.000169           0.028414          0.000239\n",
            "37            0.026845           0.000118           0.026950          0.000151\n",
            "38            0.025427           0.000060           0.025526          0.000211\n",
            "39            0.024098           0.000190           0.024204          0.000244\n",
            "40            0.023000           0.000093           0.023107          0.000196\n",
            "41            0.021943           0.000101           0.022054          0.000135\n",
            "42            0.020961           0.000054           0.021073          0.000224\n",
            "43            0.020025           0.000116           0.020143          0.000258\n",
            "44            0.019189           0.000098           0.019309          0.000250\n",
            "45            0.018469           0.000125           0.018593          0.000296\n",
            "46            0.017680           0.000172           0.017799          0.000323\n",
            "47            0.017045           0.000092           0.017165          0.000221\n",
            "48            0.016455           0.000162           0.016577          0.000255\n",
            "49            0.015931           0.000180           0.016054          0.000291\n"
          ]
        }
      ]
    },
    {
      "cell_type": "markdown",
      "source": [
        "##Linear Support Vector Classifier"
      ],
      "metadata": {
        "id": "V9VsFgntvFRr"
      }
    },
    {
      "cell_type": "code",
      "source": [
        "# Predict on the training set\n",
        "y_train_pred = clf.predict(X_train)\n",
        "\n",
        "# Evaluate the model's performance on the training set\n",
        "print(\"Training Set Evaluation:\")\n",
        "print(classification_report(y_train, y_train_pred))\n",
        "\n",
        "# Evaluate the model's performance on the test set\n",
        "print(\"Test Set Evaluation:\")\n",
        "print(classification_report(y_test, y_pred))\n",
        "\n"
      ],
      "metadata": {
        "id": "Ba7aj9DiraKR",
        "colab": {
          "base_uri": "https://localhost:8080/"
        },
        "outputId": "d55a4461-c69c-455f-f463-d6e3523819ca"
      },
      "execution_count": null,
      "outputs": [
        {
          "output_type": "stream",
          "name": "stdout",
          "text": [
            "Training Set Evaluation:\n",
            "              precision    recall  f1-score   support\n",
            "\n",
            "           0       0.99      1.00      0.99    647711\n",
            "           1       0.98      0.81      0.89     37064\n",
            "\n",
            "    accuracy                           0.99    684775\n",
            "   macro avg       0.98      0.90      0.94    684775\n",
            "weighted avg       0.99      0.99      0.99    684775\n",
            "\n",
            "Test Set Evaluation:\n",
            "              precision    recall  f1-score   support\n",
            "\n",
            "           0       0.99      1.00      0.99    161791\n",
            "           1       0.98      0.81      0.89      9403\n",
            "\n",
            "    accuracy                           0.99    171194\n",
            "   macro avg       0.98      0.91      0.94    171194\n",
            "weighted avg       0.99      0.99      0.99    171194\n",
            "\n"
          ]
        }
      ]
    },
    {
      "cell_type": "markdown",
      "source": [
        "# Evaluate the outcomes"
      ],
      "metadata": {
        "id": "jiScb4RfW4LS"
      }
    },
    {
      "cell_type": "markdown",
      "source": [
        "# Comparison of Models' Performance\n",
        "\n",
        "\n",
        "\n",
        "*  Linear Support Vector\n",
        "*  XG Boost\n",
        "*  Decision Tree\n",
        "*  Random Forest\n",
        "*  Logistical Regression\n",
        "*  K Nearest Neighbours\n",
        "\n",
        "\n",
        "\n",
        "\n",
        "\n",
        "\n",
        "\n"
      ],
      "metadata": {
        "id": "Toy3bFGHgOvs"
      }
    },
    {
      "cell_type": "code",
      "source": [
        "results = {\n",
        "    'Linear SVM': {\n",
        "        'precision': 0.98,\n",
        "        'recall': 0.81,\n",
        "        'f1-score': 0.89\n",
        "    },\n",
        "    'XG Boost': {\n",
        "        'precision': 1.00,\n",
        "        'recall': 1.00,\n",
        "        'f1-score': 1.00\n",
        "    },\n",
        "    'Decision Tree': {\n",
        "        'precision': 0.99,\n",
        "        'recall': 1.00,\n",
        "        'f1-score': 0.99\n",
        "    },\n",
        "    'Random Forest': {\n",
        "        'precision': 1.00,\n",
        "        'recall': 1.00,\n",
        "        'f1-score': 1.00\n",
        "    },\n",
        "    'Logistic Regression': {\n",
        "        'precision': 0.72,\n",
        "        'recall': 0.95,\n",
        "        'f1-score': 0.82\n",
        "    },\n",
        "    'KNN': {\n",
        "        'precision': 0.96,\n",
        "        'recall': 0.68,\n",
        "        'f1-score': 0.80\n",
        "    },\n",
        "}\n",
        "\n",
        "# Print the updated dictionary\n",
        "for model, metrics in results.items():\n",
        "    print(f\"{model}:\")\n",
        "    print(f\"  Precision: {metrics['precision']}\")\n",
        "    print(f\"  Recall: {metrics['recall']}\")\n",
        "    print(f\"  F1-score: {metrics['f1-score']}\")\n",
        "    print()\n"
      ],
      "metadata": {
        "colab": {
          "base_uri": "https://localhost:8080/"
        },
        "id": "-sK0r0nu-lQy",
        "outputId": "90ca5487-9091-47fb-ea5a-7c3ed820f0ce"
      },
      "execution_count": null,
      "outputs": [
        {
          "output_type": "stream",
          "name": "stdout",
          "text": [
            "Linear SVM:\n",
            "  Precision: 0.98\n",
            "  Recall: 0.81\n",
            "  F1-score: 0.89\n",
            "\n",
            "XG Boost:\n",
            "  Precision: 1.0\n",
            "  Recall: 1.0\n",
            "  F1-score: 1.0\n",
            "\n",
            "Decision Tree:\n",
            "  Precision: 0.99\n",
            "  Recall: 1.0\n",
            "  F1-score: 0.99\n",
            "\n",
            "Random Forest:\n",
            "  Precision: 1.0\n",
            "  Recall: 1.0\n",
            "  F1-score: 1.0\n",
            "\n",
            "Logistic Regression:\n",
            "  Precision: 0.72\n",
            "  Recall: 0.95\n",
            "  F1-score: 0.82\n",
            "\n",
            "KNN:\n",
            "  Precision: 0.96\n",
            "  Recall: 0.68\n",
            "  F1-score: 0.8\n",
            "\n"
          ]
        }
      ]
    },
    {
      "cell_type": "markdown",
      "source": [
        "Decision Tree, Random Forest and XG Boost (Which acts by grouping weaker decision trees to form strong decison trees) have the best results for this end to end project.\n",
        "\n",
        "All three models revolve around a decision tree based model, and that seems to be the best fit for this set of loan data and classification problem."
      ],
      "metadata": {
        "id": "1OKriOSu-qcz"
      }
    }
  ]
}